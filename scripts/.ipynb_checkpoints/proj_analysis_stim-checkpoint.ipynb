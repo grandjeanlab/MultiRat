{
 "cells": [
  {
   "cell_type": "markdown",
   "id": "3c223e92",
   "metadata": {},
   "source": [
    "MultiRAT analysis code\n",
    "================\n",
    "Joanes Grandjean\n",
    "\n",
    "![rat art](../assets/img/rat_art.png)\n",
    "\n",
    "# Foreword\n",
    "\n",
    "This is a R markdown file which contains all the code for reproducing my\n",
    "analysis. The code is meant to be followed step-wise. The raw fMRI\n",
    "dataset will not be publicly available before the project preprint\n",
    "publication on BioArxiv. The raw fMRI dataset can be made available\n",
    "prior to publication upon request and review from the authors.\n",
    "\n",
    "If re-using some of the scripts, please follow citations guidelines for\n",
    "the software used. I’ve provided the links to the software wherever\n",
    "possible. See also the [license](../LICENSE.md) for this software.\n"
   ]
  },
  {
   "cell_type": "code",
   "execution_count": 1,
   "id": "07dad3a6",
   "metadata": {},
   "outputs": [],
   "source": [
    "# init variables\n",
    "init_folder='/home/traaffneu/joagra/code/MultiRat'\n",
    "analysis_folder='/project/4180000.19/multiRat'"
   ]
  },
  {
   "cell_type": "code",
   "execution_count": null,
   "id": "def425b4",
   "metadata": {},
   "outputs": [],
   "source": [
    "import os\n",
    "import glob\n",
    "import pandas as pd\n",
    "import numpy as np\n",
    "\n",
    "df = pd.read_csv('../assets/table/meta_data_20210411_snr.tsv', sep='\\t')"
   ]
  },
  {
   "cell_type": "code",
   "execution_count": 97,
   "id": "264c14ac",
   "metadata": {},
   "outputs": [],
   "source": [
    "stim_list = glob.glob((os.path.join(analysis_folder, 'scratch', 'stim'))+'/*')"
   ]
  },
  {
   "cell_type": "code",
   "execution_count": 278,
   "id": "8a42a672",
   "metadata": {},
   "outputs": [
    {
     "data": {
      "text/plain": [
       "0.49358446711758747"
      ]
     },
     "execution_count": 278,
     "metadata": {},
     "output_type": "execute_result"
    }
   ],
   "source": [
    "from nilearn.input_data import NiftiMasker\n",
    "import numpy as np\n",
    "nifti_mask='/project/4180000.19/multiRat/template/roi/S1bf_r.nii.gz'\n",
    "img='/project/4180000.19/multiRat/scratch/seed/aromas/sub-0100101_ses-1_run-1_bold_RAS_combined_aroma_cleaned_S1bf_l_corr_map.nii.gz'\n",
    "\n",
    "NiftiMasker(nifti_mask).fit_transform(img).mean()\n"
   ]
  },
  {
   "cell_type": "code",
   "execution_count": null,
   "id": "8714ebca",
   "metadata": {},
   "outputs": [],
   "source": [
    "from nilearn.image import resample_to_img\n",
    "resample_to_img(stat_img, template)"
   ]
  },
  {
   "cell_type": "code",
   "execution_count": 244,
   "id": "8ff61430",
   "metadata": {},
   "outputs": [
    {
     "data": {
      "text/plain": [
       "array([[1., 0., 0.],\n",
       "       [0., 1., 0.],\n",
       "       [0., 0., 1.]])"
      ]
     },
     "execution_count": 244,
     "metadata": {},
     "output_type": "execute_result"
    }
   ],
   "source": [
    "ts = ImageMeants()\n",
    "ts.in_file = img\n",
    "ts.mask = '/project/4180000.19/multiRat/template/roi/S1bf_r_RS.nii.gz'\n",
    "ts.out_file = '/project/4180000.19/multiRat/template/roi/S1bf_'"
   ]
  }
 ],
 "metadata": {
  "kernelspec": {
   "display_name": "Python 3",
   "language": "python",
   "name": "python3"
  },
  "language_info": {
   "codemirror_mode": {
    "name": "ipython",
    "version": 3
   },
   "file_extension": ".py",
   "mimetype": "text/x-python",
   "name": "python",
   "nbconvert_exporter": "python",
   "pygments_lexer": "ipython3",
   "version": "3.9.2"
  }
 },
 "nbformat": 4,
 "nbformat_minor": 5
}
