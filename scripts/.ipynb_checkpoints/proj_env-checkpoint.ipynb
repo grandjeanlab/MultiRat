{
 "cells": [
  {
   "cell_type": "markdown",
   "metadata": {},
   "source": [
    "MultiRAT environement preparation\n",
    "================\n",
    "Joanes Grandjean\n",
    "\n",
    "![rat art](../assets/img/rat_art.png)\n",
    "\n",
    "# Foreword\n",
    "\n",
    "This and the follow are jupyter files which contains all the code for\n",
    "reproducing my analysis and detail the process. The code is meant to be\n",
    "followed step-wise. The raw fMRI dataset will not be publicly available\n",
    "before the project preprint publication on BioRxiv. The raw fMRI dataset\n",
    "can be made available prior to publication upon request and review from\n",
    "the authors.\n",
    "\n",
    "If re-using some of the scripts, please follow citations guidelines for\n",
    "the software used. I’ve provided the links to the software wherever\n",
    "possible. See also the [license](../LICENSE.md) for this software.\n",
    "\n",
    "The code is executed in `bash` (RABIES preprocessing) and `python` (analysis\n",
    "and plots).\n",
    "\n",
    "The `python` libraries are detailed in a [yml file](../environment.yml).\n",
    "\n",
    "To reproduce the code contained within this software, please follow\n",
    "these steps  \n",
    "1\\. get the required dependencies \n",
    "2\\. Install python packages (`conda env create -f environment.yml`)\n",
    "3\\. Build RABIES singularity image (`singularity build rabies-0.2.1.simg docker://gabdesgreg/rabies:0.2.1`)\n",
    "4\\. Update the variables `init_folder` and `analysis_folder` at the top of the notebooks. \n"
   ]
  },
  {
   "cell_type": "code",
   "execution_count": 3,
   "metadata": {},
   "outputs": [
    {
     "name": "stdout",
     "output_type": "stream",
     "text": [
      "Python 2.7.5\n",
      "conda 4.9.0\n",
      "jupyter core     : 4.6.3\n",
      "jupyter-notebook : 6.0.3\n",
      "qtconsole        : 4.7.5\n",
      "ipython          : 7.16.1\n",
      "ipykernel        : 5.3.2\n",
      "jupyter client   : 6.1.6\n",
      "jupyter lab      : 2.1.5\n",
      "nbconvert        : 5.6.1\n",
      "ipywidgets       : 7.5.1\n",
      "nbformat         : 5.0.7\n",
      "traitlets        : 4.3.3\n"
     ]
    }
   ],
   "source": [
    "# Python environement\n",
    "! python --version\n",
    "! conda --version\n",
    "! jupyter --version"
   ]
  },
  {
   "cell_type": "code",
   "execution_count": 5,
   "metadata": {},
   "outputs": [
    {
     "name": "stdout",
     "output_type": "stream",
     "text": [
      "FLIRT version 6.0\r\n"
     ]
    }
   ],
   "source": [
    "# FSL version \n",
    "! flirt -version"
   ]
  },
  {
   "cell_type": "code",
   "execution_count": 7,
   "metadata": {},
   "outputs": [
    {
     "name": "stdout",
     "output_type": "stream",
     "text": [
      "Defaulting to user installation because normal site-packages is not writeable\n",
      "Collecting nipype\n",
      "  Downloading nipype-1.6.0-py3-none-any.whl (3.1 MB)\n",
      "\u001b[K     |████████████████████████████████| 3.1 MB 9.1 MB/s eta 0:00:01\n",
      "\u001b[?25hRequirement already satisfied: pandas in /opt/anaconda3/2020.07/lib/python3.8/site-packages (1.0.5)\n",
      "Requirement already satisfied: numpy in /opt/anaconda3/2020.07/lib/python3.8/site-packages (1.18.5)\n",
      "Requirement already satisfied: seaborn in /opt/anaconda3/2020.07/lib/python3.8/site-packages (0.10.1)\n",
      "Requirement already satisfied: matplotlib in /opt/anaconda3/2020.07/lib/python3.8/site-packages (3.2.2)\n",
      "Collecting nibabel\n",
      "  Using cached nibabel-3.2.1-py3-none-any.whl (3.3 MB)\n",
      "Requirement already satisfied: networkx>=2.0 in /opt/anaconda3/2020.07/lib/python3.8/site-packages (from nipype) (2.4)\n",
      "Collecting etelemetry>=0.2.0\n",
      "  Downloading etelemetry-0.2.2-py3-none-any.whl (6.2 kB)\n",
      "Requirement already satisfied: packaging in /opt/anaconda3/2020.07/lib/python3.8/site-packages (from nipype) (20.4)\n",
      "Requirement already satisfied: python-dateutil>=2.2 in /opt/anaconda3/2020.07/lib/python3.8/site-packages (from nipype) (2.8.1)\n",
      "Collecting simplejson>=3.8.0\n",
      "  Downloading simplejson-3.17.2-cp38-cp38-manylinux2010_x86_64.whl (137 kB)\n",
      "\u001b[K     |████████████████████████████████| 137 kB 52.9 MB/s eta 0:00:01\n",
      "\u001b[?25hCollecting pydot>=1.2.3\n",
      "  Downloading pydot-1.4.2-py2.py3-none-any.whl (21 kB)\n",
      "Collecting rdflib>=5.0.0\n",
      "  Using cached rdflib-5.0.0-py3-none-any.whl (231 kB)\n",
      "Requirement already satisfied: filelock>=3.0.0 in /opt/anaconda3/2020.07/lib/python3.8/site-packages (from nipype) (3.0.12)\n",
      "Requirement already satisfied: scipy>=0.14 in /opt/anaconda3/2020.07/lib/python3.8/site-packages (from nipype) (1.5.0)\n",
      "Requirement already satisfied: click>=6.6.0 in /opt/anaconda3/2020.07/lib/python3.8/site-packages (from nipype) (7.1.2)\n",
      "Collecting prov>=1.5.2\n",
      "  Downloading prov-2.0.0-py3-none-any.whl (421 kB)\n",
      "\u001b[K     |████████████████████████████████| 421 kB 58.2 MB/s eta 0:00:01\n",
      "\u001b[?25hCollecting traits!=5.0,>=4.6\n",
      "  Downloading traits-6.2.0-cp38-cp38-manylinux2010_x86_64.whl (5.1 MB)\n",
      "\u001b[K     |████████████████████████████████| 5.1 MB 45.8 MB/s eta 0:00:01     |█████████████████████████████▏  | 4.6 MB 45.8 MB/s eta 0:00:01\n",
      "\u001b[?25hRequirement already satisfied: pytz>=2017.2 in /opt/anaconda3/2020.07/lib/python3.8/site-packages (from pandas) (2020.1)\n",
      "Requirement already satisfied: kiwisolver>=1.0.1 in /opt/anaconda3/2020.07/lib/python3.8/site-packages (from matplotlib) (1.2.0)\n",
      "Requirement already satisfied: cycler>=0.10 in /opt/anaconda3/2020.07/lib/python3.8/site-packages (from matplotlib) (0.10.0)\n",
      "Requirement already satisfied: pyparsing!=2.0.4,!=2.1.2,!=2.1.6,>=2.0.1 in /opt/anaconda3/2020.07/lib/python3.8/site-packages (from matplotlib) (2.4.7)\n",
      "Requirement already satisfied: decorator>=4.3.0 in /opt/anaconda3/2020.07/lib/python3.8/site-packages (from networkx>=2.0->nipype) (4.4.2)\n",
      "Requirement already satisfied: requests in /opt/anaconda3/2020.07/lib/python3.8/site-packages (from etelemetry>=0.2.0->nipype) (2.24.0)\n",
      "Collecting ci-info>=0.2\n",
      "  Downloading ci_info-0.2.0-py3-none-any.whl (6.9 kB)\n",
      "Requirement already satisfied: six in /opt/anaconda3/2020.07/lib/python3.8/site-packages (from packaging->nipype) (1.15.0)\n",
      "Collecting isodate\n",
      "  Using cached isodate-0.6.0-py2.py3-none-any.whl (45 kB)\n",
      "Requirement already satisfied: lxml>=3.3.5 in /opt/anaconda3/2020.07/lib/python3.8/site-packages (from prov>=1.5.2->nipype) (4.5.2)\n",
      "Requirement already satisfied: chardet<4,>=3.0.2 in /opt/anaconda3/2020.07/lib/python3.8/site-packages (from requests->etelemetry>=0.2.0->nipype) (3.0.4)\n",
      "Requirement already satisfied: idna<3,>=2.5 in /opt/anaconda3/2020.07/lib/python3.8/site-packages (from requests->etelemetry>=0.2.0->nipype) (2.10)\n",
      "Requirement already satisfied: certifi>=2017.4.17 in /opt/anaconda3/2020.07/lib/python3.8/site-packages (from requests->etelemetry>=0.2.0->nipype) (2020.6.20)\n",
      "Requirement already satisfied: urllib3!=1.25.0,!=1.25.1,<1.26,>=1.21.1 in /opt/anaconda3/2020.07/lib/python3.8/site-packages (from requests->etelemetry>=0.2.0->nipype) (1.25.9)\n",
      "Installing collected packages: ci-info, etelemetry, simplejson, pydot, isodate, rdflib, prov, nibabel, traits, nipype\n",
      "Successfully installed ci-info-0.2.0 etelemetry-0.2.2 isodate-0.6.0 nibabel-3.2.1 nipype-1.6.0 prov-2.0.0 pydot-1.4.2 rdflib-5.0.0 simplejson-3.17.2 traits-6.2.0\n"
     ]
    }
   ],
   "source": [
    "# install python packages\n",
    "! pip install nipype pandas numpy seaborn matplotlib nibabel "
   ]
  },
  {
   "cell_type": "code",
   "execution_count": 1,
   "metadata": {},
   "outputs": [],
   "source": [
    "! conda env export > ../environment.yml"
   ]
  }
 ],
 "metadata": {
  "kernelspec": {
   "display_name": "Python 3",
   "language": "python",
   "name": "python3"
  },
  "language_info": {
   "codemirror_mode": {
    "name": "ipython",
    "version": 3
   },
   "file_extension": ".py",
   "mimetype": "text/x-python",
   "name": "python",
   "nbconvert_exporter": "python",
   "pygments_lexer": "ipython3",
   "version": "3.9.2"
  }
 },
 "nbformat": 4,
 "nbformat_minor": 4
}
