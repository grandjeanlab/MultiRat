{
 "cells": [
  {
   "cell_type": "markdown",
   "metadata": {},
   "source": [
    "MultiRAT asset preparation\n",
    "================\n",
    "Joanes Grandjean\n",
    "\n",
    "![rat art](../assets/img/rat_art.png)\n",
    "\n",
    "## Dowload and prepare the template\n",
    "\n",
    "For this project, I will use the SIGMA rat template available\n",
    "[here](https://www.nitrc.org/projects/sigma_template) The reference for\n",
    "the template is: Barrière, D.A., Magalhães, R., Novais, A. et al. The\n",
    "SIGMA rat brain templates and atlases for multimodal MRI data analysis\n",
    "and visualization. Nat Commun 10, 5699 (2019).\n",
    "<https://doi.org/10.1038/s41467-019-13575-7>\n",
    "\n",
    "Originally, I intended to use the [WHS\n",
    "atlas](doi%2010.1016/j.neuroimage.2014.04.001) but differences in\n",
    "contrast with the majority of the dataset, ex vivo template with empty\n",
    "ventricles, and image artifacts rendered image registration complicated.\n",
    "This is a deviation from the [preregistration](https://osf.io/emq4b).\n"
   ]
  },
  {
   "cell_type": "code",
   "execution_count": 13,
   "metadata": {},
   "outputs": [],
   "source": [
    "# init variables\n",
    "init_folder='/home/traaffneu/joagra/code/MultiRat'\n",
    "analysis_folder='/project/4180000.19/multiRat'\n"
   ]
  },
  {
   "cell_type": "code",
   "execution_count": 11,
   "metadata": {},
   "outputs": [
    {
     "name": "stdout",
     "output_type": "stream",
     "text": [
      "--2021-04-05 00:03:35--  https://www.nitrc.org/frs/download.php/11708/SIGMA_Wistar_Rat_Brain_TemplatesAndAtlases_Version1.1.zip\n",
      "Resolving www.nitrc.org (www.nitrc.org)... 52.3.190.103\n",
      "Connecting to www.nitrc.org (www.nitrc.org)|52.3.190.103|:443... connected.\n",
      "HTTP request sent, awaiting response... 302 Found\n",
      "Location: /account/login.php?return_to=%2Ffrs%2Fdownload.php%2F11708%2FSIGMA_Wistar_Rat_Brain_TemplatesAndAtlases_Version1.1.zip&feedback=The+tool%2Fresource+administrator+has+requested+that+you+log+in+to+download+this+file. [following]\n",
      "--2021-04-05 00:03:35--  https://www.nitrc.org/account/login.php?return_to=%2Ffrs%2Fdownload.php%2F11708%2FSIGMA_Wistar_Rat_Brain_TemplatesAndAtlases_Version1.1.zip&feedback=The+tool%2Fresource+administrator+has+requested+that+you+log+in+to+download+this+file.\n",
      "Reusing existing connection to www.nitrc.org:443.\n",
      "HTTP request sent, awaiting response... 200 OK\n",
      "Length: unspecified [text/html]\n",
      "Saving to: ‘/project/4180000.19/multiRat/template/tmp.zip’\n",
      "\n",
      "    [ <=>                                   ] 39.796      --.-K/s   in 0,09s   \n",
      "\n",
      "2021-04-05 00:03:35 (441 KB/s) - ‘/project/4180000.19/multiRat/template/tmp.zip’ saved [39796]\n",
      "\n",
      "unzip:  cannot find or open /project/4180000.19/multiRat/template/SIGMA_Wistar_Rat_Brain_TemplatesAndAtlases_Version1.1.zip, /project/4180000.19/multiRat/template/SIGMA_Wistar_Rat_Brain_TemplatesAndAtlases_Version1.1.zip.zip or /project/4180000.19/multiRat/template/SIGMA_Wistar_Rat_Brain_TemplatesAndAtlases_Version1.1.zip.ZIP.\n"
     ]
    }
   ],
   "source": [
    "# Create a template directory where the template will be stored. \n",
    "! mkdir -p $analysis_folder'/template'\n",
    "\n",
    "# the following requires NITRC login credentials\n",
    "! wget https://www.nitrc.org/frs/download.php/11708/SIGMA_Wistar_Rat_Brain_TemplatesAndAtlases_Version1.1.zip -O $analysis_folder'/template/tmp.zip'\n",
    "! unzip -d $analysis_folder'/template/' $analysis_folder'/template/tmp.zip' \n",
    "! rm $analysis_folder'/template/tmp.zip' "
   ]
  },
  {
   "cell_type": "markdown",
   "metadata": {},
   "source": [
    "## ROI generation\n",
    "\n",
    "Here, I create regions-of-interest for seed-based analysis. The\n",
    "preregistration specifies the seeds should be 0.9 mm3 and placed on both\n",
    "hemispheres. It specifies the following ROIs: S1 barrel field area,\n",
    "Cingulate area, Retrosplenial area, Insula area, motor area,\n",
    "caudate-putamen, dorsal hippocampus, amygdala, thalamus.\n",
    "\n",
    "However, because some datasets are provided with restricted FOV in the AP axis, I had to restrict the analysis to: \n",
    "S1 barrel field area, Cingulate area, Motor area, and Caudate-putamen\n"
   ]
  },
  {
   "cell_type": "code",
   "execution_count": 56,
   "metadata": {},
   "outputs": [],
   "source": [
    "from os import path\n",
    "\n",
    "template = path.join(path.sep, analysis_folder, \"template/SIGMA_Wistar_Rat_Brain_TemplatesAndAtlases_Version1.1/SIGMA_Rat_Anatomical_Imaging/SIGMA_Rat_Anatomical_InVivo_Template/SIGMA_InVivo_Brain_Template.nii\")\n",
    "template_mask = path.join(analysis_folder,\"template/SIGMA_Wistar_Rat_Brain_TemplatesAndAtlases_Version1.1/SIGMA_Rat_Anatomical_Imaging/SIGMA_Rat_Anatomical_InVivo_Template/SIGMA_InVivo_Brain_Mask.nii\")\n",
    "ROI = path.join(analysis_folder,\"template/roi2/\")\n"
   ]
  },
  {
   "cell_type": "code",
   "execution_count": 55,
   "metadata": {},
   "outputs": [],
   "source": [
    "# JG 11.12.2020, update ROI to new template specs. \n",
    "! mkdir -p $ROI\n",
    "\n",
    "roi_name=path.join(ROI,'S1bf_l')\n",
    "! fslmaths $template -mul 0 -add 1 -roi 33 9 237 9 134 9 0 1 $roi_name -odt int\n",
    "roi_name=path.join(ROI,'S1bf_r')\n",
    "! fslmaths $template -mul 0 -add 1 -roi 147 9 237 9 134 9 0 1 $roi_name -odt int\n",
    "\n",
    "roi_name=path.join(ROI,'ACA_l')\n",
    "! fslmaths $template -mul 0 -add 1 -roi 92 9 256 9 143 9 0 1 $roi_name -odt int\n",
    "roi_name=path.join(ROI,'RSP_l')\n",
    "! fslmaths $template -mul 0 -add 1 -roi 89 9 208 9 157 9 0 1 $roi_name -odt int\n",
    "\n",
    "roi_name=path.join(ROI,'AI_l')\n",
    "! fslmaths $template -mul 0 -add 1 -roi 45 9 268 9 99 9 0 1 $roi_name -odt int\n",
    "roi_name=path.join(ROI,'AI_r')\n",
    "! fslmaths $template -mul 0 -add 1 -roi 139 9 268 9 99 9 0 1 $roi_name -odt int\n",
    "\n",
    "roi_name=path.join(ROI,'MOp_l')\n",
    "! fslmaths $template -mul 0 -add 1 -roi 65 9 268 9 143 9 0 1 $roi_name -odt int\n",
    "roi_name=path.join(ROI,'MOp_r')\n",
    "! fslmaths $template -mul 0 -add 1 -roi 126 9 268 9 143 9 0 1 $roi_name -odt int\n",
    "\n",
    "roi_name=path.join(ROI,'CPu_l')\n",
    "! fslmaths $template -mul 0 -add 1 -roi 62 9 250 9 112 9 0 1 $roi_name -odt int\n",
    "roi_name=path.join(ROI,'CPu_r')\n",
    "! fslmaths $template -mul 0 -add 1 -roi 129 9 250 9 112 9 0 1 $roi_name -odt int\n",
    "\n",
    "roi_name=path.join(ROI,'dHC_l')\n",
    "! fslmaths $template -mul 0 -add 1 -roi 63 9 209 9 142 9 0 1 $roi_name -odt int\n",
    "roi_name=path.join(ROI,'dHC_r')\n",
    "! fslmaths $template -mul 0 -add 1 -roi 122 9 209 9 142 9 0 1 $roi_name -odt int\n",
    "\n",
    "roi_name=path.join(ROI,'AMG_l')\n",
    "! fslmaths $template -mul 0 -add 1 -roi 42 9 215 9 80 9 0 1 $roi_name -odt int\n",
    "roi_name=path.join(ROI,'AMG_r')\n",
    "! fslmaths $template -mul 0 -add 1 -roi 145 9 215 9 80 9 0 1 $roi_name -odt int\n",
    "\n",
    "roi_name=path.join(ROI,'TH_l')\n",
    "! fslmaths $template -mul 0 -add 1 -roi 63 9 215 9 113 9 0 1 $roi_name -odt int\n",
    "roi_name=path.join(ROI,'TH_r')\n",
    "! fslmaths $template -mul 0 -add 1 -roi 122 9 215 9 113 9 0 1 $roi_name -odt int"
   ]
  },
  {
   "cell_type": "markdown",
   "metadata": {},
   "source": [
    "## Dataset preparation\n",
    "\n",
    "Datasets included in this study were accepted in any format (bruker,\n",
    "dicom, nifti, minc). The first step consists of arranging all datasets\n",
    "within the same convention. I opted for true voxel size and\n",
    "**A**nterior-**P**osterior axis defined as the rostro-caudal axis. Some\n",
    "datasets were provided with x10 inflated voxels and the\n",
    "**S**uperior-**I**nferior axis defined as the rostro-caudal axis\n",
    "instead, e.g.:\n",
    "\n",
    "![raw structrual image](../assets/img/orient_pre.png)\n",
    "\n",
    "These had to be corrected, and organized into\n",
    "[BIDS](https://bids.neuroimaging.io/) format manually. To do so, I wrote\n",
    "scripts using a combination of the following FSL and AFNI commands,\n",
    "`fslinfo`, `fslmerge`, `fslorient`, `fslchpixdim`, `fslswapdim`, and\n",
    "`3dresample`.\n",
    "\n",
    "Two scripts used to convert datasets are provided as examples. [Convert\n",
    "raw Bruker data](../assets/script/convert_bruker.sh) and [convert nifti\n",
    "data](../assets/script/convert_nifti.sh). Raw Bruker data were converted\n",
    "using the [Bruker2NIfTI](https://github.com/neurolabusc/Bru2Nii)\n",
    "v1.0.20180303 package, written by Matthew Brett, Andrew Janke, Mikaël\n",
    "Naveau, Chris Rorden. Please note that this software is no longer\n",
    "supported. New users are invited to try\n",
    "[BrkRaw](https://github.com/BrkRaw/bruker) instead.\n",
    "\n",
    "Below is an example of a corrected structural image. Note how the\n",
    "**S**uperior, **I**nferior, **A**nterior, **P**osterior axis labels are\n",
    "indicated in `fsleyes`.\n",
    "\n",
    "![corrected structrual image](../assets/img/orient_post.png)\n",
    "\n",
    "## Dataset preparation limiation\n",
    "\n",
    "Unfortunately, I cannot ensure the **L**eft / **R**ight axis are\n",
    "represented correctly across all datasets. While this is less of an\n",
    "issue for resting-state fMRI, this is a caveat in the stimulus-evoked\n",
    "fMRI arm of this study, and should be acknowledged as a limitation.\n",
    "Similarly, I cannot ensure the slicing acquisition order, hence,\n",
    "preprocessing is performed without slice timing correction."
   ]
  }
 ],
 "metadata": {
  "kernelspec": {
   "display_name": "Python 3",
   "language": "python",
   "name": "python3"
  },
  "language_info": {
   "codemirror_mode": {
    "name": "ipython",
    "version": 3
   },
   "file_extension": ".py",
   "mimetype": "text/x-python",
   "name": "python",
   "nbconvert_exporter": "python",
   "pygments_lexer": "ipython3",
   "version": "3.8.3"
  }
 },
 "nbformat": 4,
 "nbformat_minor": 4
}
