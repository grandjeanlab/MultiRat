{
 "cells": [
  {
   "cell_type": "markdown",
   "id": "3c223e92",
   "metadata": {},
   "source": [
    "MultiRAT analysis code\n",
    "================\n",
    "Joanes Grandjean\n",
    "\n",
    "![rat art](../assets/img/rat_art.png)\n",
    "\n",
    "# Foreword\n",
    "\n",
    "This is a jupyter notebook which contains all the code for reproducing my\n",
    "analysis. The code is meant to be followed step-wise. \n",
    "\n",
    "If re-using some of the scripts, please follow citations guidelines for\n",
    "the software used. I’ve provided the links to the software wherever\n",
    "possible. See also the [license](../LICENSE.md) for this software.\n"
   ]
  },
  {
   "cell_type": "code",
   "execution_count": 70,
   "id": "07dad3a6",
   "metadata": {},
   "outputs": [],
   "source": [
    "# init variables\n",
    "init_folder='/home/traaffneu/joagra/code/MultiRat'\n",
    "analysis_folder='/project/4180000.23/jo_rat_awake'\n",
    "df_path='../assets/table/awakeRatfull_20220819.tsv'"
   ]
  },
  {
   "cell_type": "code",
   "execution_count": 71,
   "id": "35de3264",
   "metadata": {},
   "outputs": [],
   "source": [
    "import os\n",
    "import glob\n",
    "import pandas as pd\n",
    "import numpy as np\n",
    "\n",
    "df = pd.read_csv(df_path, sep='\\t')\n",
    "df['SubjID']=df[\"scan\"]\n"
   ]
  },
  {
   "cell_type": "markdown",
   "id": "23185330",
   "metadata": {},
   "source": [
    "here, we move straight to the good stuff. No time to waste"
   ]
  },
  {
   "cell_type": "code",
   "execution_count": 72,
   "id": "3ed34496",
   "metadata": {},
   "outputs": [],
   "source": [
    "#remove excluded scans\n",
    "df_exclude = df.loc[(df['exclude'] != 'yes')]"
   ]
  },
  {
   "cell_type": "code",
   "execution_count": 73,
   "id": "e6ffc0e6",
   "metadata": {},
   "outputs": [],
   "source": [
    "# create empty columns for the different SBA parameters.\n",
    "\n",
    "df['GSRs_CPu_CPu'] = np.nan\n",
    "df['GSRs_MOp_MOp'] = np.nan\n",
    "df['GSRs_S1bf_S1bf'] = np.nan\n",
    "df['GSRs_S1bf_ACA'] = np.nan\n",
    "df['GSRs_S1bf_cat'] = np.nan"
   ]
  },
  {
   "cell_type": "code",
   "execution_count": 74,
   "id": "264c14ac",
   "metadata": {},
   "outputs": [],
   "source": [
    "roi_list = glob.glob((os.path.join(analysis_folder, 'template', 'roi'))+'/*')\n",
    "seed_list = glob.glob((os.path.join(analysis_folder, 'seed','*'))+'/*')"
   ]
  },
  {
   "cell_type": "code",
   "execution_count": 75,
   "id": "10822a97",
   "metadata": {},
   "outputs": [],
   "source": [
    "i_orig=seed_list[0]"
   ]
  },
  {
   "cell_type": "code",
   "execution_count": 76,
   "id": "572bf6df",
   "metadata": {},
   "outputs": [],
   "source": [
    "i_orig=seed_list[3]\n",
    "i=i_orig.replace('_RAS','')\n",
    "i=i.replace('_aroma','')\n",
    "i=i.replace('_ses-1','')\n",
    "sub=os.path.basename(i).split('_autobox')[0]\n",
    "denoise=i.split('/')[5]\n",
    "seed=os.path.basename(i).split('_')[7]"
   ]
  },
  {
   "cell_type": "code",
   "execution_count": 77,
   "id": "6535f309",
   "metadata": {},
   "outputs": [],
   "source": [
    "roi='ACA'\n",
    "fc_orig=df[(denoise+'_'+seed+'_'+roi)][df['SubjID']==sub]\n",
    "fc_nan = np.isnan(fc_orig).all()\n"
   ]
  },
  {
   "cell_type": "code",
   "execution_count": 68,
   "id": "eace9af6",
   "metadata": {},
   "outputs": [
    {
     "data": {
      "text/plain": [
       "'sub-rat001_task-rest_run-01_bold'"
      ]
     },
     "execution_count": 68,
     "metadata": {},
     "output_type": "execute_result"
    }
   ],
   "source": [
    "os.path.basename(df['SubjID'][0]).split('.')[0]"
   ]
  },
  {
   "cell_type": "code",
   "execution_count": null,
   "id": "fa9c802d",
   "metadata": {},
   "outputs": [],
   "source": [
    "        if(fc_nan):\n",
    "            r = re.compile('ACA'+'_l')\n",
    "            nifti_mask=list(filter(r.findall, roi_list))[0]\n",
    "            fc=NiftiMasker(nifti_mask).fit_transform(i_orig).mean()\n",
    "            df[(denoise+'_'+seed+'_'+roi)][df['SubjID']==sub]=fc\n",
    "    \n",
    "    roi=seed\n",
    "    fc_orig=df[(denoise+'_'+seed+'_'+roi)][df['SubjID']==sub]\n",
    "    fc_nan = np.isnan(fc_orig).all()\n",
    "    if(fc_nan):\n",
    "        r = re.compile(seed+'_r')\n",
    "        nifti_mask=list(filter(r.findall, roi_list))[0]\n",
    "        fc=NiftiMasker(nifti_mask).fit_transform(i_orig).mean()\n",
    "        df[(denoise+'_'+seed+'_'+roi)][df['SubjID']==sub]=fc"
   ]
  },
  {
   "cell_type": "code",
   "execution_count": 80,
   "id": "950c34a7",
   "metadata": {},
   "outputs": [],
   "source": [
    "import pandas as pd\n",
    "pd.options.mode.chained_assignment = None\n",
    "\n",
    "from nilearn.input_data import NiftiMasker\n",
    "import re\n",
    "import numpy as np\n",
    "\n",
    "for i_orig in seed_list:\n",
    "    #print(i_orig)\n",
    "    i=i_orig.replace('_RAS','')\n",
    "    i=i.replace('_aroma','')\n",
    "    i=i.replace('_ses-1','')\n",
    "    sub=os.path.basename(i).split('_autobox')[0]\n",
    "    denoise=i.split('/')[5]\n",
    "    seed=os.path.basename(i).split('_')[7]\n",
    "    if(seed =='ACA'):\n",
    "        continue\n",
    "    elif(seed =='S1bf'):\n",
    "        roi='ACA'\n",
    "        fc_orig=df[(denoise+'_'+seed+'_'+roi)][df['SubjID']==sub]\n",
    "        fc_nan = np.isnan(fc_orig).all()\n",
    "        if(fc_nan):\n",
    "            r = re.compile('ACA'+'_l')\n",
    "            nifti_mask=list(filter(r.findall, roi_list))[0]\n",
    "            fc=NiftiMasker(nifti_mask).fit_transform(i_orig).mean()\n",
    "            df[(denoise+'_'+seed+'_'+roi)][df['SubjID']==sub]=fc\n",
    "    \n",
    "    roi=seed\n",
    "    fc_orig=df[(denoise+'_'+seed+'_'+roi)][df['SubjID']==sub]\n",
    "    fc_nan = np.isnan(fc_orig).all()\n",
    "    if(fc_nan):\n",
    "        r = re.compile(seed+'_r')\n",
    "        nifti_mask=list(filter(r.findall, roi_list))[0]\n",
    "        fc=NiftiMasker(nifti_mask).fit_transform(i_orig).mean()\n",
    "        df[(denoise+'_'+seed+'_'+roi)][df['SubjID']==sub]=fc\n",
    "    \n",
    "#df.to_csv(df_path, sep='\\t', index=False)"
   ]
  },
  {
   "cell_type": "code",
   "execution_count": 82,
   "id": "bb05f0c3",
   "metadata": {},
   "outputs": [
    {
     "name": "stdout",
     "output_type": "stream",
     "text": [
      "missing GSRs\n",
      "[]\n"
     ]
    }
   ],
   "source": [
    "\n",
    "df_exclude = df.loc[(df['exclude'] != 'yes')]\n",
    "\n",
    "\n",
    "\n",
    "print('missing GSRs')\n",
    "print(df_exclude[np.isnan(df['GSRs_S1bf_S1bf']) | np.isnan(df['GSRs_S1bf_ACA']) | np.isnan(df['GSRs_MOp_MOp'])  | np.isnan(df['GSRs_CPu_CPu'])]['SubjID'].unique())\n"
   ]
  },
  {
   "cell_type": "code",
   "execution_count": 83,
   "id": "8c900c30",
   "metadata": {},
   "outputs": [],
   "source": [
    "# This is a function to estimate functional connectivity specificity. See Grandjean 2020 for details on the reasoning \n",
    "\n",
    "def specific_FC(specific_roi, unspecific_ROI):\n",
    "    if (specific_roi>=0.1) and (unspecific_ROI<0.1):\n",
    "        cat='Specific'\n",
    "    elif (specific_roi>=0.1) and (unspecific_ROI>=0.1):\n",
    "        cat='Unspecific'\n",
    "    elif (abs(specific_roi)<0.1) and (abs(unspecific_ROI)<0.1):\n",
    "        cat='No'\n",
    "    else:\n",
    "        cat='Spurious'\n",
    "    return cat\n",
    "\n"
   ]
  },
  {
   "cell_type": "code",
   "execution_count": 84,
   "id": "d951ad85",
   "metadata": {
    "jupyter": {
     "outputs_hidden": true
    }
   },
   "outputs": [],
   "source": [
    "for i in list(range(0,df.shape[0])):\n",
    "            \n",
    "    #---- Now doing GSRs condition\n",
    "    specific=df['GSRs_S1bf_S1bf'][i]\n",
    "    unspecific=df['GSRs_S1bf_ACA'][i]\n",
    "    if(np.isnan(specific) | np.isnan(unspecific)):\n",
    "        print('')\n",
    "    else:\n",
    "        df['GSRs_S1bf_cat'][i]=specific_FC(specific,unspecific)  \n",
    "\n",
    "df.to_csv(df_path, sep='\\t', index=False)"
   ]
  },
  {
   "cell_type": "code",
   "execution_count": 86,
   "id": "db5f4e7d",
   "metadata": {},
   "outputs": [],
   "source": [
    "#remove excluded scans\n",
    "df_exclude = df.loc[(df['exclude'] != 'yes')]"
   ]
  },
  {
   "cell_type": "code",
   "execution_count": 90,
   "id": "8752028c",
   "metadata": {},
   "outputs": [
    {
     "data": {
      "image/png": "[encoded data removed]",
      "text/plain": [
       "<Figure size 432x432 with 1 Axes>"
      ]
     },
     "metadata": {},
     "output_type": "display_data"
    }
   ],
   "source": [
    "import numpy as np\n",
    "import matplotlib.pyplot as plt\n",
    "import seaborn as sns\n",
    "\n",
    "fig, axes = plt.subplots(nrows=1, ncols=1, figsize=(6,6))\n",
    "\n",
    "sns.set_palette(\"colorblind\")\n",
    "\n",
    "   \n",
    "ax5 = df_exclude['GSRs_S1bf_cat'].value_counts(sort=False).plot.pie(title='GSRs',autopct=\"%.1f%%\")    \n"
   ]
  },
  {
   "cell_type": "code",
   "execution_count": 89,
   "id": "16e37d4c",
   "metadata": {},
   "outputs": [
    {
     "data": {
      "text/plain": [
       "<matplotlib.lines.Line2D at 0x7f531866a4f0>"
      ]
     },
     "execution_count": 89,
     "metadata": {},
     "output_type": "execute_result"
    },
    {
     "data": {
      "image/png": "[encoded data removed]",
      "text/plain": [
       "<Figure size 432x432 with 3 Axes>"
      ]
     },
     "metadata": {
      "needs_background": "light"
     },
     "output_type": "display_data"
    }
   ],
   "source": [
    "import seaborn as sns \n",
    "\n",
    "ax6 = sns.jointplot(data=df_exclude, x='GSRs_S1bf_S1bf', y='GSRs_S1bf_ACA')\n",
    "#ax6.plot_joint(sns.kdeplot,linestyles='dashed', zorder=0, levels=6)\n",
    "\n",
    "sns.set_palette(\"colorblind\")\n",
    "\n",
    "ax6.fig.suptitle('Functional connectivity specificity')\n",
    "ax6.fig.subplots_adjust(top=0.9)\n",
    "ax6.ax_joint.set(xlabel='Specific ROI [r]', ylabel='Unspecific ROI [r]')\n",
    "ax6.ax_joint.vlines(0.1,ymin=min(df_exclude['GSRs_S1bf_ACA']),ymax=max(df_exclude['GSRs_S1bf_ACA']),linestyles='dashed', color='black')\n",
    "ax6.ax_joint.vlines(-0.1, -0.1,0.1,linestyles='dashed', color='black')\n",
    "ax6.ax_joint.hlines(-0.1, -0.1,0.1,linestyles='dashed', color='black')\n",
    "ax6.ax_joint.hlines(0.1, -0.1,xmax=max(df_exclude['GSRs_S1bf_S1bf']),linestyles='dashed', color='black')\n",
    "ax6.ax_marg_x.axvline(x=0.1, color='black')\n",
    "ax6.ax_marg_y.axhline(y=0.1, color='black')"
   ]
  }
 ],
 "metadata": {
  "interpreter": {
   "hash": "b20344508a6325906fe1ecb0f61c95a20c70707568c2386855afa7475df5426c"
  },
  "kernelspec": {
   "display_name": "Python 3",
   "language": "python",
   "name": "python3"
  },
  "language_info": {
   "codemirror_mode": {
    "name": "ipython",
    "version": 3
   },
   "file_extension": ".py",
   "mimetype": "text/x-python",
   "name": "python",
   "nbconvert_exporter": "python",
   "pygments_lexer": "ipython3",
   "version": "3.9.2"
  }
 },
 "nbformat": 4,
 "nbformat_minor": 5
}
