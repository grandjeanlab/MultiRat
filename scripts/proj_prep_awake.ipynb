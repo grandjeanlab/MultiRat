{
 "cells": [
  {
   "cell_type": "markdown",
   "id": "3c223e92",
   "metadata": {},
   "source": [
    "MultiRAT analysis code\n",
    "================\n",
    "Joanes Grandjean\n",
    "\n",
    "![rat art](../assets/img/rat_art.png)\n",
    "\n",
    "# Foreword\n",
    "\n",
    "This is a jupyter notebook which contains all the code for reproducing my\n",
    "analysis. The code is meant to be followed step-wise. \n",
    "\n",
    "If re-using some of the scripts, please follow citations guidelines for\n",
    "the software used. I’ve provided the links to the software wherever\n",
    "possible. See also the [license](../LICENSE.md) for this software.\n"
   ]
  },
  {
   "cell_type": "markdown",
   "id": "e8353f94",
   "metadata": {},
   "source": [
    "This script was used to download and clean the Lui2020 awake rat dataset for comparison with the standardRat collection. bash script, because it is. Poorly documented, because it is for revisions. :wink: "
   ]
  },
  {
   "cell_type": "markdown",
   "id": "49bd4e49",
   "metadata": {},
   "source": [
    "First we download the data and unzip it"
   ]
  },
  {
   "cell_type": "code",
   "execution_count": null,
   "id": "b0f08193",
   "metadata": {},
   "outputs": [],
   "source": [
    "!cd $SCRATCH\n",
    "!mkdir -p awake_rat/zip\n",
    "!mkdir -p awake_rat/data\n",
    "!mkdir -p awake_rat/bids\n",
    "!cd awake_rat/zip\n",
    "\n",
    "!wget -O part1.zip https://www.nitrc.org/frs/downloadlink.php/11762\n",
    "!wget -O part2.zip https://www.nitrc.org/frs/downloadlink.php/11763\n",
    "!wget -O part3.zip https://www.nitrc.org/frs/downloadlink.php/11764\n",
    "!wget -O part4.zip https://www.nitrc.org/frs/downloadlink.php/11765\n",
    "!wget -O part5.zip https://www.nitrc.org/frs/downloadlink.php/11766\n",
    "!wget -O part6.zip https://www.nitrc.org/frs/downloadlink.php/11767\n",
    "\n",
    "!ls .zip | while read line\n",
    "!do\n",
    "!unzip -o ../data $line\n",
    "!done\n"
   ]
  },
  {
   "cell_type": "markdown",
   "id": "a91ecc9b",
   "metadata": {},
   "source": [
    "Transform the awake rat dataset to BIDS using the information contained in the JSON files. Careful, because the data is not accurate (as of version 1.1). Some folders had to be manually deleted because of wrong information about the RARE anatomical files. "
   ]
  },
  {
   "cell_type": "code",
   "execution_count": null,
   "id": "ed697215",
   "metadata": {},
   "outputs": [],
   "source": [
    "!cd ../data\n",
    "\n",
    "!ls | while read rat\n",
    "!do\n",
    "!cd $rat \n",
    "!scan_screen=$(python3 -c 'import json,sys;JSON=json.load(sys.stdin);print(len(JSON[\"scans\"])-1);' < ${rat}_info.json)\n",
    "!anat=$(seq 0 $scan_screen | while read line; do python3 -c 'import json,sys;JSON=json.load(sys.stdin); protocol=JSON[\"scans\"]['${line}'][\"protocol\"];scan=JSON[\"scans\"]['${line}'][\"name_in_raw\"]; test=\"RARE\" in protocol; print(scan) if test else print(\"\")' < ${rat}_info.json; done)\n",
    "!set $anat\n",
    "\n",
    "!mkdir -p ../../bids/sub-${rat}/anat\n",
    "!mkdir -p ../../bids/sub-${rat}/func\n",
    "\n",
    "!cd raw/\n",
    "!cp ${1} ../../../bids/sub-${rat}/anat/sub-${rat}_T2w.nii\n",
    "!cd .. \n",
    "\n",
    "\n",
    "!ls rfmri_unprocessed/ | while read fmri\n",
    "!do\n",
    "!fmri_noext=\"${fmri%.*}\"\n",
    "!cp rfmri_unprocessed/${fmri} ../../bids/sub-${rat}/func/sub-${rat}_task-rest_run-${fmri_noext}_bold.nii\n",
    "!done\n",
    "\n",
    "!cd ..\n",
    "!done"
   ]
  },
  {
   "cell_type": "markdown",
   "id": "e3df0172",
   "metadata": {},
   "source": [
    "Preprocessing is then down with the job sumission code [here](./proj_submitjobs_awake.ipynb)   \n",
    "Analysis is done [here](./proj_analysis_sba_awake.ipynb) "
   ]
  }
 ],
 "metadata": {
  "interpreter": {
   "hash": "b20344508a6325906fe1ecb0f61c95a20c70707568c2386855afa7475df5426c"
  },
  "kernelspec": {
   "display_name": "Python 3",
   "language": "python",
   "name": "python3"
  },
  "language_info": {
   "codemirror_mode": {
    "name": "ipython",
    "version": 3
   },
   "file_extension": ".py",
   "mimetype": "text/x-python",
   "name": "python",
   "nbconvert_exporter": "python",
   "pygments_lexer": "ipython3",
   "version": "3.9.2"
  }
 },
 "nbformat": 4,
 "nbformat_minor": 5
}
