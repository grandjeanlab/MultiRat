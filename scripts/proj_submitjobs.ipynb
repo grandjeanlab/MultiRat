{
 "cells": [
  {
   "cell_type": "markdown",
   "metadata": {},
   "source": [
    "MultiRAT preprocessing\n",
    "================\n",
    "Joanes Grandjean\n",
    "\n",
    "![rat art](../assets/img/rat_art.png)\n",
    "\n",
    "# Purpose\n",
    "In this section I submit jobs to my high performance computer to perform the preprocessing, confound_correction, and analysis steps as implemented in RABIES. \n",
    "This section relies on the fact that my environment allows for parallel job submission using the `qsub` command. \n",
    "\n"
   ]
  },
  {
   "cell_type": "code",
   "execution_count": 1,
   "metadata": {},
   "outputs": [],
   "source": [
    "# init variables\n",
    "init_folder='/home/traaffneu/joagra/code/MultiRat'  # location of the codes\n",
    "analysis_folder='/project/4180000.19/multiRat'      # location of the bids folder and results\n",
    "df_path='../assets/table/meta_data_20210622.tsv'    # meta-data table\n",
    "\n",
    "scratch_folder='/data/joagra' # this is where preprocessed data will be temporarily stored\n",
    "rabies_img='/opt/rabies/0.3.5/rabies-0.3.5.simg' # location of the RABIES image"
   ]
  },
  {
   "cell_type": "code",
   "execution_count": 2,
   "metadata": {},
   "outputs": [],
   "source": [
    "# init bunch of export folders\n",
    "! mkdir -p $analysis_folder/qsub\n",
    "\n",
    "! mkdir -p $analysis_folder/export/qa/epi2anat\n",
    "! mkdir -p $analysis_folder/export/qa/anat2template\n",
    "! mkdir -p $analysis_folder/export/qa/template2std\n",
    "! mkdir -p $analysis_folder/export/qa/temporal\n",
    "! mkdir -p $analysis_folder/export/snr/atlas\n",
    "! mkdir -p $analysis_folder/export/snr/tsnr\n",
    "! mkdir -p $analysis_folder/export/motion/confound\n",
    "! mkdir -p $analysis_folder/export/motion/FD\n",
    "! mkdir -p $analysis_folder/export/log/preprocess\n",
    "! mkdir -p $analysis_folder/export/log/confound\n",
    "! mkdir -p $analysis_folder/export/log/analysis\n",
    "! mkdir -p $analysis_folder/export/stim\n",
    "! mkdir -p $analysis_folder/export/aromas_scan\n",
    "! mkdir -p $analysis_folder/export/aromas_qa\n",
    "\n",
    "! touch $analysis_folder/export/log/error.log\n",
    "! touch $analysis_folder/export/log/complete.log\n"
   ]
  },
  {
   "cell_type": "code",
   "execution_count": 3,
   "metadata": {},
   "outputs": [],
   "source": [
    "import os\n",
    "import pandas as pd\n",
    "import numpy as np\n",
    "\n",
    "df = pd.read_csv(df_path, sep='\\t')  # load the table"
   ]
  },
  {
   "cell_type": "code",
   "execution_count": 4,
   "metadata": {},
   "outputs": [],
   "source": [
    "from subprocess import call\n",
    "\n",
    "qsub_call = \"qsub -l 'walltime=72:00:00,mem=24gb, procs=1' \"  # define how much time/memory/core to allocate per job\n",
    "\n",
    "\n",
    "module_args = \"module load singularity; module unload freesurfer; module load ANTs; module unload ANTs\"  #the freesurfer and ants modules tricks as specific to my system due to some env contamination bugs \n",
    "\n",
    "template_args = \"template=/template/SIGMA_Wistar_Rat_Brain_TemplatesAndAtlases_Version1.1/SIGMA_Rat_Anatomical_Imaging/SIGMA_Rat_Anatomical_InVivo_Template/SIGMA_InVivo_Brain_Template.nii; mask=/template/SIGMA_Wistar_Rat_Brain_TemplatesAndAtlases_Version1.1/SIGMA_Rat_Anatomical_Imaging/SIGMA_Rat_Anatomical_InVivo_Template/SIGMA_InVivo_Brain_Mask.nii; wm=/template/SIGMA_Wistar_Rat_Brain_TemplatesAndAtlases_Version1.1/SIGMA_Rat_Anatomical_Imaging/SIGMA_Rat_Anatomical_InVivo_Template/SIGMA_InVivo_WM_bin.nii.gz; csf=/template/SIGMA_Wistar_Rat_Brain_TemplatesAndAtlases_Version1.1/SIGMA_Rat_Anatomical_Imaging/SIGMA_Rat_Anatomical_InVivo_Template/SIGMA_InVivo_CSF_bin.nii.gz; atlas=/template/SIGMA_Wistar_Rat_Brain_TemplatesAndAtlases_Version1.1/SIGMA_Rat_Brain_Atlases/SIGMA_Anatomical_Atlas/SIGMA_Anatomical_Brain_Atlas_rs.nii; roi=/template/roi/\"\n",
    "\n",
    "\n",
    "rabies_runmode_args = \"-p MultiProc \"\n",
    "rabies_preprocess_args = \"preprocess /rabies_in /rabies_out \\\n",
    " --anat_template ${template} \\\n",
    "--brain_mask ${mask} \\\n",
    "--WM_mask ${wm} \\\n",
    "--CSF_mask ${csf} \\\n",
    "--vascular_mask ${csf} \\\n",
    "--labels ${atlas} \\\n",
    "--TR ${TR}s \\\n",
    "--fast_commonspace \\\n",
    "--commonspace_resampling 0.3x0.3x0.3 \\\n",
    "--anat_inho_cor_method no_reg \\\n",
    "--bold_inho_cor_method no_reg \\\n",
    "--coreg_script Rigid \"\n",
    "\n",
    "rabies_confound_args = \"confound_correction /rabies_out /confound_out \\\n",
    "--read_datasink \\\n",
    "--highpass 0.01 \\\n",
    "--smoothing_filter 0.5 ${param}\"\n",
    "\n",
    "rabies_analysis_args = \"analysis /confound_out /analysis_out \\\n",
    "--FC_matrix \\\n",
    "--seed_list /roi_folder/ACA_l.nii.gz /roi_folder/CPu_l.nii.gz /roi_folder/MOp_l.nii.gz /roi_folder/S1bf_l.nii.gz\"\n"
   ]
  },
  {
   "cell_type": "code",
   "execution_count": 10,
   "metadata": {},
   "outputs": [],
   "source": [
    "i = 10  # eventually make this as a loop. \n",
    "subject_ID=\"sub-0\"+str(df.iloc[i]['rat.sub'])\n",
    "session_ID=\"ses-\"+str(df.iloc[i]['rat.ses'])\n",
    "\n",
    "TR=\"TR=\"+str(df.iloc[i]['func.TR'])\n",
    "isrest=df.iloc[i]['exp.type']=='resting-state'"
   ]
  },
  {
   "cell_type": "code",
   "execution_count": 11,
   "metadata": {},
   "outputs": [],
   "source": [
    "origbids_args=\"orig_folder=\"+os.path.join(analysis_folder, \"bids\", subject_ID,session_ID)\n",
    "template_folder_args=\"template_folder=\"+os.path.join(analysis_folder, \"template\")\n",
    "\n",
    "folderbids_args=\"bids_folder=\"+os.path.join(scratch_folder, \"bids\", subject_ID+\"_\"+session_ID)\n",
    "folderprep_args=\"preprocess_folder=\"+os.path.join(scratch_folder, \"preprocess\", subject_ID+\"_\"+session_ID)\n",
    "\n",
    "clearfolder_args=\"rm -rf $bids_folder; rm -rf $preprocess_folder; mkdir -p $bids_folder/\"+subject_ID+\"; mkdir -p $preprocess_folder\"\n",
    "cpbids_args='cp -r '+os.path.join(analysis_folder, \"bids\", subject_ID,session_ID)+\" $bids_folder/\"+subject_ID+\"/\""
   ]
  },
  {
   "cell_type": "code",
   "execution_count": 12,
   "metadata": {},
   "outputs": [],
   "source": [
    "# get error message if any error occurred during preprocessing \n",
    "pre_error_args='now=`date`; ! grep -q \"Error\" ${preprocess_folder}/rabies_preprocess.log || echo $now\" \"'+analysis_folder+ '/export/log/preprocess/' + subject_ID+'_'+session_ID+'.log >> '+analysis_folder+'export/log/error.log'\n",
    "\n",
    "# copy preprocessing outputs of interest to designated folders\n",
    "pre_cp1_args='cp ${preprocess_folder}/rabies_preprocess.log ' +analysis_folder+ '/export/log/preprocess/' + subject_ID+'_'+session_ID+'.log'\n",
    "pre_cp2_args='cp ${preprocess_folder}/preprocess_QC_report/EPI2Anat/* '+analysis_folder+ '/export/qa/epi2anat/'\n",
    "pre_cp3_args='cp ${preprocess_folder}/preprocess_QC_report/temporal_features/* '+analysis_folder+ '/export/qa/temporal/'\n",
    "pre_cp4_args='cp ${preprocess_folder}/preprocess_QC_report/commonspace_reg_wf.Unbiased2Atlas/_registration.png '+analysis_folder+ '/export/qa/anat2template/'+ subject_ID+'_'+session_ID+'.png'\n",
    "\n",
    "pre_cp5_args='cp ${preprocess_folder}/bold_datasink/commonspace_labels/*/*/*.nii.gz '+analysis_folder+ '/export/snr/atlas/'\n",
    "pre_cp6_args='cp ${preprocess_folder}/confounds_datasink/confounds_csv/*/*/*.csv '+analysis_folder+ '/export/motion/confound/'\n",
    "pre_cp7_args='cp ${preprocess_folder}/confounds_datasink/FD_csv/*/*/*.csv  '+analysis_folder+ '/export/motion/fd/'\n",
    "\n",
    "\n",
    "pre_cp8_args='ls ${preprocess_folder}/bold_datasink/commonspace_labels | while read label; do; label_path=$(find ${preprocess_folder}/bold_datasink/commonspace_labels/${label}/*/*.nii.gz); tSNR_path=$(find ${preprocess_folder}/bold_datasink/tSNR_map_preprocess/${label}/*/*.nii.gz); mask_path=$(find ${preprocess_folder}/bold_datasink/commonspace_mask/${label}/*/*.nii.gz); fslmeants -i ${tSNR_path} -m ${mask_path} --label=${label_path} -o '+ analysis_folder+ '/export/snr/tsnr/${label}.txt'\n"
   ]
  },
  {
   "cell_type": "code",
   "execution_count": 14,
   "metadata": {},
   "outputs": [],
   "source": [
    "# resting-state post-processing\n",
    "rest1_args='denoise_list=(\"aromas\" \"GSRs\" \"WMCSFs\" \"aromasr\" \"aromal\"); denoise_parameters=(\"--lowpass 0.1 --run_aroma --aroma_dim 10\" \"--lowpass 0.1 --conf_list global_signal mot_6\" \"--lowpass 0.1 --conf_list WM_signal CSF_signal mot_6\" \"--lowpass 0.1 --run_aroma --aroma_dim 10 --FD_censoring\" \"--lowpass 0.2 --run_aroma --aroma_dim 10\" )'\n",
    "rest2_args='for denoise in ${denoise_list[*]}; do; id=$(echo ${denoise_list[@]/$denoise//} | cut -d/ -f1 | wc -w | tr -d ' '); param=${denoise_parameters[$id]}'\n",
    "rest3_args='current_confound='+os.path.join(scratch_folder,'confound')+'/${denoise}/'+subject_ID+'_'+session_ID\n",
    "rest4_args='current_analysis='+os.path.join(scratch_folder,'analysis')+'/${denoise}/'+subject_ID+'_'+session_ID\n",
    "rest5_args='rm -rf $current_confound; rm -rf $current_analysis; mkdir -p $current_confound; mkdir -p $current_analysis'\n",
    "\n",
    "# get error message if any error occurred during confound regression \n",
    "rest_error1_args='now=`date`; ! grep -q \"Error\" ${current_confound}/rabies_confound_correction.log || echo $now\" \"'+analysis_folder+'/export/log/confound/' + subject_ID+'_'+session_ID+'_${denoise}.log >> '+analysis_folder+'export/log/error.log'\n",
    "\n",
    "# copy aromas confound outputs of interest to designated folders\n",
    "rest_cp1_args='cp ${current_confound}/rabies_confound_correction.log ' +analysis_folder+ '/export/log/confound/' + subject_ID+'_'+session_ID+'_${denoise}.log'\n",
    "rest_cp2_args='if [ \"$denoise\" == \"aromas\" ]; then cp -r ${current_confound}/confound_correction_wf_datasink/cleaned_timeseries/*/*.nii.gz '+analysis_folder+'/export/aromas_scan; ls ${current_confound}/confound_correction_wf_datasink/aroma_out | while read label; do; mkdir -p '+analysis_folder+'/export/aromas_qa/${label}; cp -r ${current_confound}/confound_correction_wf_datasink/aroma_out/${label}/aroma_out/melodic.ica/report/* '+analysis_folder+'/export/aromas_qa/${label}; cp -r ${current_confound}/confound_correction_wf_datasink/aroma_out/${label}/aroma_out/classified_motion_ICs.txt '+analysis_folder+'/export/aromas_qa/${label}/classification.txt; done;fi'\n",
    "\n",
    "# get error message if any error occurred during analysis \n",
    "rest_error2_args='now=`date`; ! grep -q \"Error\" ${current_analysis}/rabies_analysis.log || echo $now\" \"'+analysis_folder+'/export/log/analysis/' + subject_ID+'_'+session_ID+'_${denoise}.log >> '+analysis_folder+'export/log/error.log'\n",
    "\n",
    "\n",
    "# copy seed-based maps to designated folders\n",
    "rest_cp3_args='seed_dir='+analysis_folder+'/export/seed/${denoise}; mkdir -p ${seed_dir}; cp -r ${current_analysis}/analysis_wf_datasink/seed_correlation_maps/*/*/* $seed_dir'\n",
    "\n",
    "#report completed script to log file. Doesnt mean completed is error free\n",
    "complete_args='echo $now\" \"'+subject_ID+'_'+session_ID+' >> '+analysis_folder+'export/log/complete.log'\n"
   ]
  },
  {
   "cell_type": "code",
   "execution_count": 10,
   "metadata": {},
   "outputs": [
    {
     "name": "stdout",
     "output_type": "stream",
     "text": [
      "ls ${preprocess_folder}/bold_datasink/commonspace_labels | while read label; do; label_path=$(find ${preprocess_folder}/bold_datasink/commonspace_labels/${label}/*/*.nii.gz); tSNR_path=$(find ${preprocess_folder}/bold_datasink/tSNR_map_preprocess/${label}/*/*.nii.gz); mask_path=$(find ${preprocess_folder}/bold_datasink/commonspace_mask/${label}/*/*.nii.gz); fslmeants -i ${tSNR_path} -m ${mask_path} --label=${label_path} -o /project/4180000.19/multiRat/export/snr/tsnr/${label}.txt\n"
     ]
    }
   ],
   "source": [
    "print(cp8_args)"
   ]
  },
  {
   "cell_type": "code",
   "execution_count": 15,
   "metadata": {},
   "outputs": [],
   "source": [
    "qsub_job_name=os.path.join(analysis_folder, 'qsub', 'job_'+subject_ID+'_'+session_ID +'.sh')\n",
    "\n",
    "with open (qsub_job_name, 'w') as rsh:\n",
    "    rsh.writelines(module_args +'\\n')\n",
    "    rsh.writelines(template_args +'\\n')\n",
    "    rsh.writelines(TR +'\\n')\n",
    "    rsh.writelines(origbids_args +'\\n')\n",
    "    rsh.writelines(template_folder_args +'\\n')\n",
    "    rsh.writelines(folderbids_args +'\\n')\n",
    "    rsh.writelines(folderprep_args +'\\n')\n",
    "    rsh.writelines(clearfolder_args +'\\n')\n",
    "    rsh.writelines(cpbids_args +'\\n')\n",
    "    rsh.writelines('singularity run -B ${template_folder}:/template -B ${bids_folder}:/rabies_in:ro ')\n",
    "    rsh.writelines('-B ${preprocess_folder}:/rabies_out ')\n",
    "    rsh.writelines(rabies_img+' ')\n",
    "    rsh.writelines(rabies_runmode_args+' ')\n",
    "    rsh.writelines(rabies_preprocess_args +'\\n')\n",
    "    rsh.writelines(pre_error_args +'\\n')\n",
    "    rsh.writelines(pre_cp1_args +'\\n')\n",
    "    rsh.writelines(pre_cp2_args +'\\n')\n",
    "    rsh.writelines(pre_cp3_args +'\\n')\n",
    "    rsh.writelines(pre_cp4_args +'\\n')\n",
    "    rsh.writelines(pre_cp5_args +'\\n')\n",
    "    rsh.writelines(pre_cp6_args +'\\n')\n",
    "    rsh.writelines(pre_cp7_args +'\\n')\n",
    "    rsh.writelines(pre_cp8_args +'\\n')\n",
    "    # add if statement here for resting state\n",
    "    rsh.writelines(rest1_args +'\\n')\n",
    "    rsh.writelines(rest2_args +'\\n')\n",
    "    rsh.writelines(rest3_args +'\\n')\n",
    "    rsh.writelines(rest4_args +'\\n')\n",
    "    rsh.writelines(rest5_args +'\\n')\n",
    "    rsh.writelines('singularity run -B ${template_folder}:/template -B ${bids_folder}:/rabies_in:ro ')\n",
    "    rsh.writelines('-B ${preprocess_folder}:/rabies_out -B ${current_confound}:/confound_out')\n",
    "    rsh.writelines(rabies_img+' ')\n",
    "    rsh.writelines(rabies_runmode_args+' ')\n",
    "    rsh.writelines(rabies_confound_args +'\\n')\n",
    "    rsh.writelines(rest_error1_args +'\\n')\n",
    "    rsh.writelines(rest_cp1_args +'\\n')\n",
    "    rsh.writelines(rest_cp2_args +'\\n')\n",
    "    rsh.writelines('singularity run -B ${PROJECT}/template/roi:/roi_folder -B ${template_folder}:/template -B ${bids_folder}:/rabies_in:ro ')\n",
    "    rsh.writelines('-B ${preprocess_folder}:/rabies_out -B ${current_confound}:/confound_out -B ${current_analysis}:/analysis_out')\n",
    "    rsh.writelines(rabies_img+' ')\n",
    "    rsh.writelines(rabies_runmode_args+' ')\n",
    "    rsh.writelines(rabies_analysis_args +'\\n')\n",
    "    rsh.writelines(rest_error2_args +'\\n')\n",
    "    rsh.writelines(rest_cp3_args +'\\n')\n",
    "    rsh.writelines(complete_args +'\\n')"
   ]
  },
  {
   "cell_type": "code",
   "execution_count": 52,
   "metadata": {},
   "outputs": [
    {
     "data": {
      "text/plain": [
       "0"
      ]
     },
     "execution_count": 52,
     "metadata": {},
     "output_type": "execute_result"
    }
   ],
   "source": [
    "#call(qsub_call + qsub_job_name, shell=True)"
   ]
  }
 ],
 "metadata": {
  "kernelspec": {
   "display_name": "Python 3",
   "language": "python",
   "name": "python3"
  },
  "language_info": {
   "codemirror_mode": {
    "name": "ipython",
    "version": 3
   },
   "file_extension": ".py",
   "mimetype": "text/x-python",
   "name": "python",
   "nbconvert_exporter": "python",
   "pygments_lexer": "ipython3",
   "version": "3.9.2"
  }
 },
 "nbformat": 4,
 "nbformat_minor": 4
}
