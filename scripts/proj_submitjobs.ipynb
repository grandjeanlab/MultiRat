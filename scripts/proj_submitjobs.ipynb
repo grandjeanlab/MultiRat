{
 "cells": [
  {
   "cell_type": "markdown",
   "metadata": {},
   "source": [
    "MultiRAT preprocessing\n",
    "================\n",
    "Joanes Grandjean\n",
    "\n",
    "![rat art](../assets/img/rat_art.png)\n",
    "\n",
    "# Purpose\n",
    "In this section I submit jobs to my high performance computer to perform the preprocessing, confound_correction, and analysis steps as implemented in RABIES. \n",
    "This section relies on the fact that my environment allows for parallel job submission using the `qsub` command. \n",
    "\n"
   ]
  },
  {
   "cell_type": "code",
   "execution_count": 36,
   "metadata": {},
   "outputs": [],
   "source": [
    "# init variables\n",
    "init_folder='/home/traaffneu/joagra/code/MultiRat'  # location of the codes\n",
    "analysis_folder='/project/4180000.19/multiRat'      # location of the bids folder and results\n",
    "df_path='../assets/table/meta_data_20210622.tsv'    # meta-data table\n",
    "\n",
    "scratch_folder='/data/joagra' # this is where preprocessed data will be temporarily stored\n",
    "rabies_img = '/opt/rabies/0.3.5/rabies-0.3.5.simg' # location of the RABIES image"
   ]
  },
  {
   "cell_type": "code",
   "execution_count": 40,
   "metadata": {},
   "outputs": [],
   "source": [
    "! mkdir -p $analysis_folder/export/qa/epi2anat\n",
    "! mkdir -p $analysis_folder/export/qa/anat2template\n",
    "! mkdir -p $analysis_folder/export/qa/template2std\n",
    "! mkdir -p $analysis_folder/export/qa/temporal\n",
    "! mkdir -p $analysis_folder/export/snr/atlas\n",
    "! mkdir -p $analysis_folder/export/snr/tsnr\n",
    "! mkdir -p $analysis_folder/export/motion/confound\n",
    "! mkdir -p $analysis_folder/export/motion/FD\n",
    "! mkdir -p $analysis_folder/export/log\n",
    "! mkdir -p $analysis_folder/export/stim\n",
    "! mkdir -p $analysis_folder/export/aromas_scan\n",
    "! mkdir -p $analysis_folder/export/aromas_qa"
   ]
  },
  {
   "cell_type": "code",
   "execution_count": 37,
   "metadata": {},
   "outputs": [],
   "source": [
    "import os\n",
    "import pandas as pd\n",
    "import numpy as np\n",
    "\n",
    "df = pd.read_csv(df_path, sep='\\t')  # load the table"
   ]
  },
  {
   "cell_type": "code",
   "execution_count": null,
   "metadata": {},
   "outputs": [],
   "source": [
    "from subprocess import call\n",
    "\n",
    "\n",
    "qsub_call = \"qsub -l 'walltime=00:01:00,mem=1gb, procs=1' \"  # define how much time/memory/core to allocate per job\n",
    "\n",
    "module_call = \"module load singularity; module unload freesurfer; module load ANTs; module unload ANTs\"  #the freesurfer and ants modules tricks as specific to my system due to some env contamination bugs \n",
    "\n",
    "template_args = \"template=/template/SIGMA_Wistar_Rat_Brain_TemplatesAndAtlases_Version1.1/SIGMA_Rat_Anatomical_Imaging/SIGMA_Rat_Anatomical_InVivo_Template/SIGMA_InVivo_Brain_Template.nii; mask=/template/SIGMA_Wistar_Rat_Brain_TemplatesAndAtlases_Version1.1/SIGMA_Rat_Anatomical_Imaging/SIGMA_Rat_Anatomical_InVivo_Template/SIGMA_InVivo_Brain_Mask.nii; wm=/template/SIGMA_Wistar_Rat_Brain_TemplatesAndAtlases_Version1.1/SIGMA_Rat_Anatomical_Imaging/SIGMA_Rat_Anatomical_InVivo_Template/SIGMA_InVivo_WM_bin.nii.gz; csf=/template/SIGMA_Wistar_Rat_Brain_TemplatesAndAtlases_Version1.1/SIGMA_Rat_Anatomical_Imaging/SIGMA_Rat_Anatomical_InVivo_Template/SIGMA_InVivo_CSF_bin.nii.gz; atlas=/template/SIGMA_Wistar_Rat_Brain_TemplatesAndAtlases_Version1.1/SIGMA_Rat_Brain_Atlases/SIGMA_Anatomical_Atlas/SIGMA_Anatomical_Brain_Atlas_rs.nii; roi=/template/roi/\"\n",
    "\n",
    "rabies_runmode_args =       \"-p MultiProc \"\n",
    "rabies_preprocess_args =    \"preprocess /rabies_in /rabies_out \\\n",
    "                            --anat_template ${template} \\\n",
    "                            --brain_mask ${mask} \\\n",
    "                            --WM_mask ${wm} \\\n",
    "                            --CSF_mask ${csf} \\\n",
    "                            --vascular_mask ${csf} \\\n",
    "                            --labels ${atlas} \\\n",
    "                            --TR ${TR}s \\\n",
    "                            --fast_commonspace \\\n",
    "                            --commonspace_resampling 0.3x0.3x0.3 \\\n",
    "                            --anat_inho_cor_method no_reg \\\n",
    "                            --bold_inho_cor_method no_reg \\\n",
    "                            --coreg_script Rigid \"\n",
    "\n",
    "rabies_confound_args =      \"confound_correction /rabies_out /confound_out \\\n",
    "                            --read_datasink \\\n",
    "                            --highpass 0.01 \\\n",
    "                            --smoothing_filter 0.5 \"\n",
    "rabies_analysis_args =      \"analysis /confound_out /analysis_out \\\n",
    "                            --seed_list\"\n"
   ]
  },
  {
   "cell_type": "code",
   "execution_count": 11,
   "metadata": {},
   "outputs": [],
   "source": [
    "with open ('test_job.sh', 'w') as rsh:\n",
    "    rsh.writelines('mkdir test \\n')"
   ]
  },
  {
   "cell_type": "code",
   "execution_count": 29,
   "metadata": {},
   "outputs": [
    {
     "data": {
      "text/plain": [
       "0"
      ]
     },
     "execution_count": 29,
     "metadata": {},
     "output_type": "execute_result"
    }
   ],
   "source": [
    "call(qsub_call + \"${PWD}/test_job.sh\", shell=True)"
   ]
  },
  {
   "cell_type": "code",
   "execution_count": 27,
   "metadata": {},
   "outputs": [
    {
     "name": "stdout",
     "output_type": "stream",
     "text": [
      "qsub -l 'walltime=00:01:00,mem=1gb, procs=1' ${PWD}/test_job.sh\n"
     ]
    }
   ],
   "source": [
    "print(qsub_call + \"${PWD}/test_job.sh\")"
   ]
  }
 ],
 "metadata": {
  "kernelspec": {
   "display_name": "Python 3",
   "language": "python",
   "name": "python3"
  },
  "language_info": {
   "codemirror_mode": {
    "name": "ipython",
    "version": 3
   },
   "file_extension": ".py",
   "mimetype": "text/x-python",
   "name": "python",
   "nbconvert_exporter": "python",
   "pygments_lexer": "ipython3",
   "version": "3.9.2"
  }
 },
 "nbformat": 4,
 "nbformat_minor": 4
}
