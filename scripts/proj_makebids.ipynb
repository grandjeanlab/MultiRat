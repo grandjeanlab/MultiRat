{
 "cells": [
  {
   "cell_type": "markdown",
   "metadata": {},
   "source": [
    "MultiRAT preprocessing\n",
    "================\n",
    "Joanes Grandjean\n",
    "\n",
    "![rat art](../assets/img/rat_art.png)\n",
    "\n",
    "# Purpose\n",
    "In this section I generate the bare bone BIDS folder metadata ahead of an upload to opennenuro.org. Datasets acquired with standardRAT protocol were generated using proper BIDS converter (bidscoin and brkraw), so they contain the right metadata. Other datasets were supplied `as is` by contributing parties. See   [asset preparation](scripts/proj_asset.ipynb) for the detail on how supplied data were converted to NIFTI and BIDS.   \n",
    "\n",
    "If re-using some of the scripts, please follow citations guidelines for\n",
    "the software used. I’ve provided the links to the software wherever\n",
    "possible. See also the [license](../LICENSE.md) for this software.\n"
   ]
  },
  {
   "cell_type": "code",
   "execution_count": 3,
   "metadata": {},
   "outputs": [],
   "source": [
    "# init variables\n",
    "init_folder='/home/traaffneu/joagra/code/MultiRat'  # location of the codes\n",
    "analysis_folder='/project/4180000.19/multiRat'      # location of the bids folder and results\n",
    "df_path='../assets/table/meta_data_20210622.tsv'    # meta-data table\n"
   ]
  },
  {
   "cell_type": "code",
   "execution_count": 4,
   "metadata": {},
   "outputs": [],
   "source": [
    "import os\n",
    "import pandas as pd\n",
    "import numpy as np\n",
    "\n",
    "df = pd.read_csv(df_path, sep='\\t')  # load the table"
   ]
  },
  {
   "cell_type": "markdown",
   "metadata": {},
   "source": [
    "BIDs 1.6.0 requires the following for fMRI. \n",
    "1. RepetitionTime\n",
    "2. TaskName (for func)\n",
    "\n",
    "The rest is recommended or optional. I am however unsure of the precision of all parameters provided by the users for their respective datasets. For this reason, I only added the following meta-data items to the .json files. \n",
    "\n",
    "MagneticFieldStrength\n",
    "PulseSequenceType\n",
    "EchoTime\n",
    "\n",
    "The full table with raw user inputs is provided in the ./assets/table folder. "
   ]
  },
  {
   "cell_type": "code",
   "execution_count": 30,
   "metadata": {},
   "outputs": [],
   "source": [
    "i = 1  # eventually make this as a loop. \n",
    "\n",
    "\n",
    "subject_ID=\"sub-0\"+str(df.iloc[i]['rat.sub'])\n",
    "session_ID=\"ses-\"+str(df.iloc[i]['rat.ses'])\n",
    "\n",
    "bidsversion='1.6.0'\n",
    "\n",
    "magneticfield=df.iloc[i]['MRI.field.strength']\n",
    "\n",
    "anatfilename=os.path.join(analysis_folder, 'bids_test',subject_ID,session_ID,'anat',subject_ID+'_'+session_ID+'_T2w.json')\n",
    "anatTR=df.iloc[i]['anat.TR']\n",
    "anatTE=df.iloc[i]['anat.TE']\n",
    "anatseq=str(df.iloc[i]['anat.sequence'])\n",
    "\n",
    "funcfilename=os.path.join(analysis_folder, 'bids_test',subject_ID,session_ID,'func',subject_ID+'_'+session_ID+'_task-rest_run-1_bold.json')\n",
    "funcTR=df.iloc[i]['func.TR']\n",
    "funcTE=df.iloc[i]['func.TE']\n",
    "funcseq=str(df.iloc[i]['func.sequence'])\n",
    "\n",
    "if df.iloc[i]['exp.type']=='resting-state':\n",
    "    taskname='rest'\n",
    "else:\n",
    "    taskname='stim'\n",
    "    taskonset=str(df.iloc[i]['func.sensory.onset'])\n",
    "    taskduration=str(df.iloc[i]['func.sensory.duration'])"
   ]
  },
  {
   "cell_type": "code",
   "execution_count": 31,
   "metadata": {},
   "outputs": [],
   "source": [
    "import json\n",
    "\n",
    "func={\n",
    "    'MagneticFieldStrength': magneticfield,\n",
    "    'EchoTime': funcTE,\n",
    "    'RepetitionTime': funcTR,\n",
    "    'PulseSequenceType': funcseq\n",
    "    }\n",
    "\n",
    "anat={\n",
    "    'MagneticFieldStrength': magneticfield,\n",
    "    'EchoTime': anatTE,\n",
    "    'RepetitionTime': anatTR,\n",
    "    'PulseSequenceType': anatseq\n",
    "    }"
   ]
  },
  {
   "cell_type": "code",
   "execution_count": 32,
   "metadata": {},
   "outputs": [],
   "source": [
    "\n",
    "with open(anatfilename, 'w') as outfile:\n",
    "    json.dump(anat, outfile)\n",
    "\n",
    "with open(funcfilename, 'w') as outfile:\n",
    "    json.dump(func, outfile)"
   ]
  },
  {
   "cell_type": "code",
   "execution_count": 39,
   "metadata": {},
   "outputs": [
    {
     "data": {
      "text/plain": [
       "False"
      ]
     },
     "execution_count": 39,
     "metadata": {},
     "output_type": "execute_result"
    }
   ],
   "source": [
    "# ! bids validator in python is moody. seemly working using website (minus some warnings)\n",
    "from bids_validator import BIDSValidator\n",
    "BIDSValidator().is_bids(os.path.join(analysis_folder,'bids_test'))\n"
   ]
  }
 ],
 "metadata": {
  "kernelspec": {
   "display_name": "Python 3",
   "language": "python",
   "name": "python3"
  },
  "language_info": {
   "codemirror_mode": {
    "name": "ipython",
    "version": 3
   },
   "file_extension": ".py",
   "mimetype": "text/x-python",
   "name": "python",
   "nbconvert_exporter": "python",
   "pygments_lexer": "ipython3",
   "version": "3.9.2"
  }
 },
 "nbformat": 4,
 "nbformat_minor": 4
}
