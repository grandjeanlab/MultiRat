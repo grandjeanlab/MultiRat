{
 "cells": [
  {
   "cell_type": "markdown",
   "metadata": {},
   "source": [
    "MultiRAT preprocessing\n",
    "================\n",
    "Joanes Grandjean\n",
    "\n",
    "![rat art](../assets/img/rat_art.png)\n",
    "\n",
    "# Purpose\n",
    "In this section I generate the bare bone BIDS folder metadata ahead of an upload to opennenuro.org. Datasets acquired with standardRAT protocol were generated using proper BIDS converter (bidscoin and brkraw), so they contain the right metadata. Other datasets were supplied `as is` by contributing parties. See   [asset preparation](scripts/proj_asset.ipynb) for the detail on how supplied data were converted to NIFTI and BIDS.   \n",
    "\n",
    "If re-using some of the scripts, please follow citations guidelines for\n",
    "the software used. I’ve provided the links to the software wherever\n",
    "possible. See also the [license](../LICENSE.md) for this software.\n"
   ]
  },
  {
   "cell_type": "code",
   "execution_count": 1,
   "metadata": {},
   "outputs": [],
   "source": [
    "# init variables\n",
    "init_folder='/home/traaffneu/joagra/code/MultiRat'  # location of the codes\n",
    "analysis_folder='/project/4180000.19/multiRat'      # location of the bids folder and results\n",
    "df_path='../assets/table/multiRat_rest_20220414.tsv'    # meta-data table\n"
   ]
  },
  {
   "cell_type": "code",
   "execution_count": 2,
   "metadata": {},
   "outputs": [],
   "source": [
    "import os\n",
    "import pandas as pd\n",
    "import numpy as np\n",
    "\n",
    "df = pd.read_csv(df_path, sep='\\t')  # load the table"
   ]
  },
  {
   "cell_type": "markdown",
   "metadata": {},
   "source": [
    "BIDs 1.6.0 requires the following for fMRI. \n",
    "1. RepetitionTime\n",
    "2. TaskName (for func)\n",
    "\n",
    "The rest is recommended or optional. I am however unsure of the precision of all parameters provided by the users for their respective datasets. For this reason, I only added the following meta-data items to the .json files. \n",
    "\n",
    "MagneticFieldStrength\n",
    "PulseSequenceType\n",
    "EchoTime\n",
    "\n",
    "The full table with raw user inputs is provided in the ./assets/table folder. "
   ]
  },
  {
   "cell_type": "code",
   "execution_count": 29,
   "metadata": {},
   "outputs": [],
   "source": [
    "import json\n",
    "\n",
    "\n",
    "for index, row in df.iterrows():\n",
    "    subject_ID=\"sub-0\"+str(row['rat.sub'])\n",
    "    session_ID=\"ses-\"+str(row['rat.ses'])\n",
    "\n",
    "    bidsversion='1.6.0'\n",
    "\n",
    "    magneticfield=row['MRI.field.strength']\n",
    "\n",
    "    anatfilename=os.path.join(analysis_folder, 'bids',subject_ID,session_ID,'anat',subject_ID+'_'+session_ID+'_T2w.json')\n",
    "    anatTR=row['anat.TR']\n",
    "    anatTE=row['anat.TE']\n",
    "    anatseq=str(row['anat.sequence'])\n",
    "\n",
    "    if pd.isna(anatTR):\n",
    "        anatTR=\"n/a\"\n",
    "    if pd.isna(anatTE):\n",
    "        anatTE=\"n/a\"\n",
    "    \n",
    "\n",
    "    funcfilename=os.path.join(analysis_folder, 'bids',subject_ID,session_ID,'func',subject_ID+'_'+session_ID+'_task-rest_run-1_bold.json')\n",
    "    funcTR=row['func.TR']\n",
    "    funcTE=row['func.TE']\n",
    "    funcseq=str(row['func.sequence'])\n",
    "\n",
    "    if pd.isna(funcTR):\n",
    "        funcTR=\"n/a\"\n",
    "    if pd.isna(funcTE):\n",
    "        funcTE=\"n/a\"\n",
    "\n",
    "    if row['exp.type']=='resting-state':\n",
    "        taskname='rest'\n",
    "    # this should only be for the stim evoked dataset.\n",
    "    else:\n",
    "        taskname='stim'\n",
    "        taskonset=str(row['func.sensory.onset'])\n",
    "        taskduration=str(row['func.sensory.duration'])\n",
    "\n",
    "    func={\n",
    "        'MagneticFieldStrength': magneticfield,\n",
    "        'EchoTime': funcTE,\n",
    "        'RepetitionTime': funcTR,\n",
    "        'PulseSequenceType': funcseq}\n",
    "\n",
    "    anat={\n",
    "        'MagneticFieldStrength': magneticfield,\n",
    "        'EchoTime': anatTE,\n",
    "        'RepetitionTime': anatTR,\n",
    "        'PulseSequenceType': anatseq}\n",
    "\n",
    "    with open(anatfilename, 'w') as outfile:\n",
    "        json.dump(anat, outfile)\n",
    "\n",
    "    with open(funcfilename, 'w') as outfile:\n",
    "        json.dump(func, outfile)"
   ]
  },
  {
   "cell_type": "code",
   "execution_count": 5,
   "metadata": {},
   "outputs": [],
   "source": [
    "import os\n",
    "import nibabel as nib\n",
    "\n",
    "for index, row in df.iterrows():\n",
    "\n",
    "    subject_ID=\"sub-0\"+str(row['rat.sub'])\n",
    "    session_ID=\"ses-\"+str(row['rat.ses'])\n",
    "\n",
    "    funcfilename=os.path.join(analysis_folder, 'bids',subject_ID,session_ID,'func',subject_ID+'_'+session_ID+'_task-rest_run-1_bold.nii.gz')\n",
    "    n1_img = nib.load(funcfilename)\n",
    "    if n1_img.header['pixdim'][4] != row['func.TR']:\n",
    "        n1_img.header['pixdim'][4] = row['func.TR']\n",
    "\n",
    "\n",
    "    n1_img.to_filename(funcfilename)"
   ]
  },
  {
   "cell_type": "code",
   "execution_count": 4,
   "metadata": {},
   "outputs": [
    {
     "ename": "ModuleNotFoundError",
     "evalue": "No module named 'bids_validator'",
     "output_type": "error",
     "traceback": [
      "\u001b[0;31m---------------------------------------------------------------------------\u001b[0m",
      "\u001b[0;31mModuleNotFoundError\u001b[0m                       Traceback (most recent call last)",
      "\u001b[0;32m<ipython-input-4-78516d1aa620>\u001b[0m in \u001b[0;36m<module>\u001b[0;34m\u001b[0m\n\u001b[1;32m      1\u001b[0m \u001b[0;31m# ! bids validator in python is moody. seemly working using website (minus some warnings)\u001b[0m\u001b[0;34m\u001b[0m\u001b[0;34m\u001b[0m\u001b[0;34m\u001b[0m\u001b[0m\n\u001b[0;32m----> 2\u001b[0;31m \u001b[0;32mfrom\u001b[0m \u001b[0mbids_validator\u001b[0m \u001b[0;32mimport\u001b[0m \u001b[0mBIDSValidator\u001b[0m\u001b[0;34m\u001b[0m\u001b[0;34m\u001b[0m\u001b[0m\n\u001b[0m\u001b[1;32m      3\u001b[0m \u001b[0mBIDSValidator\u001b[0m\u001b[0;34m(\u001b[0m\u001b[0;34m)\u001b[0m\u001b[0;34m.\u001b[0m\u001b[0mis_bids\u001b[0m\u001b[0;34m(\u001b[0m\u001b[0mos\u001b[0m\u001b[0;34m.\u001b[0m\u001b[0mpath\u001b[0m\u001b[0;34m.\u001b[0m\u001b[0mjoin\u001b[0m\u001b[0;34m(\u001b[0m\u001b[0manalysis_folder\u001b[0m\u001b[0;34m,\u001b[0m\u001b[0;34m'bids'\u001b[0m\u001b[0;34m)\u001b[0m\u001b[0;34m)\u001b[0m\u001b[0;34m\u001b[0m\u001b[0;34m\u001b[0m\u001b[0m\n",
      "\u001b[0;31mModuleNotFoundError\u001b[0m: No module named 'bids_validator'"
     ]
    }
   ],
   "source": [
    "# ! bids validator in python is moody. seemly working using website (minus some warnings)\n",
    "from bids_validator import BIDSValidator\n",
    "BIDSValidator().is_bids(os.path.join(analysis_folder,'bids'))\n"
   ]
  }
 ],
 "metadata": {
  "kernelspec": {
   "display_name": "Python 3",
   "language": "python",
   "name": "python3"
  },
  "language_info": {
   "codemirror_mode": {
    "name": "ipython",
    "version": 3
   },
   "file_extension": ".py",
   "mimetype": "text/x-python",
   "name": "python",
   "nbconvert_exporter": "python",
   "pygments_lexer": "ipython3",
   "version": "3.9.2"
  }
 },
 "nbformat": 4,
 "nbformat_minor": 4
}
