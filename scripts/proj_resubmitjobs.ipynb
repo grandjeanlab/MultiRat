{
 "cells": [
  {
   "cell_type": "markdown",
   "metadata": {},
   "source": [
    "MultiRAT preprocessing\n",
    "================\n",
    "Joanes Grandjean\n",
    "\n",
    "![rat art](../assets/img/rat_art.png)\n",
    "\n",
    "# Purpose\n",
    "In this section I submit jobs to my high performance computer to perform the preprocessing, confound_correction, and analysis steps as implemented in RABIES. \n",
    "This section relies on the fact that my environment allows for parallel job submission using the `qsub` command. \n",
    "\n"
   ]
  },
  {
   "cell_type": "code",
   "execution_count": 1,
   "metadata": {},
   "outputs": [],
   "source": [
    "# init variables\n",
    "init_folder='/home/traaffneu/joagra/code/MultiRat'  # location of the codes\n",
    "analysis_folder='/scratch/m/mchakrav/gjoanes/multirat/test'      # location of the bids folder and results\n",
    "df_path='../assets/table/meta_data_20211208.tsv'    # meta-data table\n",
    "\n",
    "scratch_folder='/scratch/m/mchakrav/gjoanes/multirat/test/scratch' # this is where preprocessed data will be temporarily stored\n",
    "rabies_img='/project/m/mchakrav/gjoanes/rabies-0.3.5.simg' # location of the RABIES image"
   ]
  },
  {
   "cell_type": "code",
   "execution_count": 2,
   "metadata": {},
   "outputs": [],
   "source": [
    "import os\n",
    "import pandas as pd\n",
    "import numpy as np\n",
    "\n",
    "df = pd.read_csv(df_path, sep='\\t')  # load the table"
   ]
  },
  {
   "cell_type": "code",
   "execution_count": 3,
   "metadata": {},
   "outputs": [
    {
     "name": "stdout",
     "output_type": "stream",
     "text": [
      "===============================================================================\n",
      "If you are having trouble logging in, please see:\n",
      "https://docs.computecanada.ca/wiki/SSH_Keys_Pilot \n",
      "\n",
      "Si vous rencontrez des difficultés pour vous authentifier, veuillez consulter: \n",
      "https://docs.computecanada.ca/wiki/SSH_Keys_Pilot/fr\n",
      "===============================================================================\n",
      "\n",
      "Connection to niagara.computecanada.ca closed.\n"
     ]
    }
   ],
   "source": [
    "! ssh gjoanes@niagara.computecanada.ca -tt 'sh ~/detect_error.sh && exit' > ../assets/tmp/confound_redo_tmp.txt"
   ]
  },
  {
   "cell_type": "code",
   "execution_count": 4,
   "metadata": {},
   "outputs": [],
   "source": [
    "confound_redo = pd.read_csv('../assets/tmp/confound_redo_tmp.txt', header=None)"
   ]
  },
  {
   "cell_type": "code",
   "execution_count": 5,
   "metadata": {},
   "outputs": [],
   "source": [
    "from subprocess import call\n",
    "\n",
    "\n",
    "module_args = \"module load gcc/8.3.0; module load openblas/0.3.7; module load fsl/6.0.4\"  #the freesurfer and ants modules tricks as specific to my system due to some env contamination bugs \n",
    "fsl_load_args='module load fsl'\n",
    "fsl_unload_args='module unload fsl'\n",
    "\n",
    "template_args = \"template=/template/SIGMA_Wistar_Rat_Brain_TemplatesAndAtlases_Version1.1/SIGMA_Rat_Anatomical_Imaging/SIGMA_Rat_Anatomical_InVivo_Template/SIGMA_InVivo_Brain_Template.nii; mask=/template/SIGMA_Wistar_Rat_Brain_TemplatesAndAtlases_Version1.1/SIGMA_Rat_Anatomical_Imaging/SIGMA_Rat_Anatomical_InVivo_Template/SIGMA_InVivo_Brain_Mask.nii; wm=/template/SIGMA_Wistar_Rat_Brain_TemplatesAndAtlases_Version1.1/SIGMA_Rat_Anatomical_Imaging/SIGMA_Rat_Anatomical_InVivo_Template/SIGMA_InVivo_WM_bin.nii.gz; csf=/template/SIGMA_Wistar_Rat_Brain_TemplatesAndAtlases_Version1.1/SIGMA_Rat_Anatomical_Imaging/SIGMA_Rat_Anatomical_InVivo_Template/SIGMA_InVivo_CSF_bin.nii.gz; atlas=/template/SIGMA_Wistar_Rat_Brain_TemplatesAndAtlases_Version1.1/SIGMA_Rat_Brain_Atlases/SIGMA_Anatomical_Atlas/SIGMA_Anatomical_Brain_Atlas_rs.nii; roi=/template/roi/\"\n",
    "\n",
    "rabies_confound_args = \"confound_correction /rabies_out /confound_out \\\n",
    "--read_datasink \\\n",
    "--highpass 0.01 \\\n",
    "--smoothing_filter 0.5 ${param}\"\n",
    "\n",
    "rabies_analysis_args = \"analysis /confound_out /analysis_out \\\n",
    "--FC_matrix \\\n",
    "--seed_list /roi_folder/ACA_l.nii.gz /roi_folder/CPu_l.nii.gz /roi_folder/MOp_l.nii.gz /roi_folder/S1bf_l.nii.gz\"\n",
    "\n",
    "rabies_confound_aromas = \"denoise='aromas'; param='--lowpass 0.1 --run_aroma --aroma_dim 10'\"\n",
    "rabies_confound_aromasr = \"denoise='aromasr'; param='--lowpass 0.1 --run_aroma --aroma_dim 10 --FD_censoring'\"\n",
    "rabies_confound_aromal = \"denoise='aromasl'; param='--lowpass 0.2 --run_aroma --aroma_dim 10'\"\n",
    "rabies_confound_GSRs =\"denoise='GSRs'; param='--lowpass 0.1 --conf_list global_signal mot_6'\"\n",
    "rabies_confound_WMCSFs=\"denoise='WMCSFs'; param='--lowpass 0.1 --conf_list WM_signal CSF_signal mot_6'\""
   ]
  },
  {
   "cell_type": "code",
   "execution_count": 7,
   "metadata": {},
   "outputs": [],
   "source": [
    "for index, row in confound_redo.iterrows():\n",
    "\n",
    "    # get information from dataframe \n",
    "    log_name=row[0].replace('/scratch/m/mchakrav/gjoanes/multirat/test/export/log/confound//','')\n",
    "    subject_ID=log_name.split('_')[0]\n",
    "    session_ID=log_name.split('_')[1]\n",
    "    confound=log_name.split('_')[2].replace('.log','')\n",
    "    TR=\"TR=\"+str(df[(df['rat.sub']==int(subject_ID.replace('sub-0',''))) & (df['rat.ses']==int(session_ID.replace('ses-','')))]['func.TR'].values[0])\n",
    "\n",
    "    if confound == 'aromas': rest1_args = rabies_confound_aromas\n",
    "    elif confound == 'aromasr': rest1_args = rabies_confound_aromasr\n",
    "    elif confound == 'aromal': rest1_args = rabies_confound_aromal\n",
    "    elif confound == 'GSRs': rest1_args = rabies_confound_GSRs\n",
    "    elif confound == 'WMCSFs': rest1_args = rabies_confound_WMCSFs\n",
    "\n",
    "    # set the base folder structure and init folders\n",
    "    origbids_args=\"orig_folder=\"+os.path.join(analysis_folder, \"bids\", subject_ID,session_ID)\n",
    "    template_folder_args=\"template_folder=\"+os.path.join(analysis_folder, \"template\")\n",
    "    folderbids_args=\"bids_folder=\"+os.path.join(scratch_folder, \"bids\", subject_ID+\"_\"+session_ID)\n",
    "    folderprep_args=\"preprocess_folder=\"+os.path.join(scratch_folder, \"preprocess\", subject_ID+\"_\"+session_ID)\n",
    "    rest3_args='current_confound='+os.path.join(scratch_folder,'confound')+'/${denoise}/'+subject_ID+'_'+session_ID\n",
    "    rest4_args='current_analysis='+os.path.join(scratch_folder,'analysis')+'/${denoise}/'+subject_ID+'_'+session_ID\n",
    "    rest5_args='rm -rf $current_confound; rm -rf $current_analysis; mkdir -p $current_confound; mkdir -p $current_analysis'\n",
    "\n",
    "    # get error message if any error occurred during confound regression \n",
    "    rest_error1_args='now=`date`; ! grep -q \"Error\" ${current_confound}/rabies_confound_correction.log || echo $now\" \"'+analysis_folder+'/export/log/confound/' + subject_ID+'_'+session_ID+'_${denoise}.log >> '+analysis_folder+'export/log/error.log'\n",
    "\n",
    "    # copy aromas confound outputs of interest to designated folders\n",
    "    rest_cp1_args='cp ${current_confound}/rabies_confound_correction.log ' +analysis_folder+ '/export/log/confound/' + subject_ID+'_'+session_ID+'_${denoise}.log'\n",
    "    rest_cp2_args='if [ \"$denoise\" == \"aromas\" ]; then cp -r ${current_confound}/confound_correction_wf_datasink/cleaned_timeseries/*/*.nii.gz '+analysis_folder+'/export/aromas_scan; ls ${current_confound}/confound_correction_wf_datasink/aroma_out | while read label; do mkdir -p '+analysis_folder+'/export/aromas_qa/${label}; cp -r ${current_confound}/confound_correction_wf_datasink/aroma_out/${label}/aroma_out/melodic.ica/report/* '+analysis_folder+'/export/aromas_qa/${label}; cp -r ${current_confound}/confound_correction_wf_datasink/aroma_out/${label}/aroma_out/classified_motion_ICs.txt '+analysis_folder+'/export/aromas_qa/${label}/classification.txt; done;fi'\n",
    "\n",
    "    # get error message if any error occurred during analysis \n",
    "    rest_error2_args='now=`date`; ! grep -q \"Error\" ${current_analysis}/rabies_analysis.log || echo $now\" \"'+analysis_folder+'/export/log/analysis/' + subject_ID+'_'+session_ID+'_${denoise}.log >> '+analysis_folder+'export/log/error.log'\n",
    "\n",
    "\n",
    "    # copy seed-based maps to designated folders\n",
    "    rest_cp3_args='cp ${current_analysis}/rabies_analysis.log ' +analysis_folder+ '/export/log/analysis/' + subject_ID+'_'+session_ID+'_${denoise}.log'\n",
    "    rest_cp4_args='seed_dir='+analysis_folder+'/export/seed/${denoise}; mkdir -p ${seed_dir}; cp -r ${current_analysis}/analysis_wf_datasink/seed_correlation_maps/*/*/* $seed_dir'\n",
    "    rest_cp5_args='NA_dir='+analysis_folder+'/export/NA/${denoise}; mkdir -p ${NA_dir}; cp -r ${current_analysis}/analysis_wf_datasink/matrix_data_file/*/* $NA_dir'\n",
    "\n",
    "\n",
    "    #report completed script to log file. Doesnt mean completed is error free\n",
    "    complete_args='echo $now\" \"'+subject_ID+'_'+session_ID+' >> '+analysis_folder+'/export/log/complete.log'\n",
    "\n",
    "    qsub_job_name=os.path.join('/project/4180000.19/multiRat', 'qsub','redo', 'redo_job_'+subject_ID+'_'+session_ID +'_'+confound+'.sh')\n",
    "\n",
    "    with open (qsub_job_name, 'w') as rsh:\n",
    "        rsh.writelines(\"#\"+'!/bin/bash' +'\\n')\n",
    "        rsh.writelines(\"#\"+'SBATCH --time=06:00:00' +'\\n')\n",
    "        rsh.writelines(\"#\"+'SBATCH --nodes=1' +'\\n')\n",
    "        rsh.writelines(\"#\"+'SBATCH --account=rrg-mchakrav-ab' +'\\n')\n",
    "        rsh.writelines(\"#\"+'SBATCH --ntasks=40' +'\\n')\n",
    "        rsh.writelines(module_args +'\\n')\n",
    "        rsh.writelines(template_args +'\\n')\n",
    "        rsh.writelines(TR +'\\n')\n",
    "        rsh.writelines(origbids_args +'\\n')\n",
    "        rsh.writelines(template_folder_args +'\\n')\n",
    "        rsh.writelines(folderbids_args +'\\n')\n",
    "        rsh.writelines(folderprep_args +'\\n')\n",
    "        # add if statement here for resting state\n",
    "        rsh.writelines(rest1_args +'\\n')\n",
    "        rsh.writelines(rest3_args +'\\n')\n",
    "        rsh.writelines(rest4_args +'\\n')\n",
    "        rsh.writelines(rest5_args +'\\n')\n",
    "        rsh.writelines('singularity run -B ${template_folder}:/template -B ${bids_folder}:/rabies_in:ro ')\n",
    "        rsh.writelines('-B ${preprocess_folder}:/rabies_out -B ${current_confound}:/confound_out ')\n",
    "        rsh.writelines(rabies_img+' ')\n",
    "        rsh.writelines(rabies_confound_args +'\\n')\n",
    "        rsh.writelines(rest_error1_args +'\\n')\n",
    "        rsh.writelines(rest_cp1_args +'\\n')\n",
    "        rsh.writelines(rest_cp2_args +'\\n')\n",
    "        rsh.writelines('singularity run -B ${template_folder}/roi:/roi_folder -B ${template_folder}:/template -B ${bids_folder}:/rabies_in:ro ')\n",
    "        rsh.writelines('-B ${preprocess_folder}:/rabies_out -B ${current_confound}:/confound_out -B ${current_analysis}:/analysis_out ')\n",
    "        rsh.writelines(rabies_img+' ')\n",
    "        rsh.writelines(rabies_analysis_args +'\\n')\n",
    "        rsh.writelines(rest_error2_args +'\\n')\n",
    "        rsh.writelines(rest_cp3_args +'\\n')\n",
    "        rsh.writelines(rest_cp4_args+'\\n')\n",
    "        rsh.writelines(rest_cp5_args+'\\n')\n",
    "        #rsh.writelines(clear_args +'\\n')\n",
    "        rsh.writelines(complete_args +'\\n')\n"
   ]
  },
  {
   "cell_type": "code",
   "execution_count": 8,
   "metadata": {},
   "outputs": [
    {
     "name": "stdout",
     "output_type": "stream",
     "text": [
      "===============================================================================\n",
      "If you are having trouble logging in, please see:\n",
      "https://docs.computecanada.ca/wiki/SSH_Keys_Pilot \n",
      "\n",
      "Si vous rencontrez des difficultés pour vous authentifier, veuillez consulter: \n",
      "https://docs.computecanada.ca/wiki/SSH_Keys_Pilot/fr\n",
      "===============================================================================\n",
      "\n",
      "redo_job*: No such file or directory\n",
      "Killed by signal 1.\n"
     ]
    }
   ],
   "source": [
    "! cd /project/4180000.19/multiRat/qsub/redo\n",
    "! scp -r redo_job*  gjoanes@niagara.computecanada.ca://scratch/m/mchakrav/gjoanes/multirat/test/qsub/redo"
   ]
  }
 ],
 "metadata": {
  "kernelspec": {
   "display_name": "Python 3",
   "language": "python",
   "name": "python3"
  },
  "language_info": {
   "codemirror_mode": {
    "name": "ipython",
    "version": 3
   },
   "file_extension": ".py",
   "mimetype": "text/x-python",
   "name": "python",
   "nbconvert_exporter": "python",
   "pygments_lexer": "ipython3",
   "version": "3.9.2"
  }
 },
 "nbformat": 4,
 "nbformat_minor": 4
}
