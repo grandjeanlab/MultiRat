{
 "cells": [
  {
   "cell_type": "markdown",
   "metadata": {},
   "source": [
    "MultiRAT environement preparation\n",
    "================\n",
    "Joanes Grandjean\n",
    "\n",
    "![rat art](../assets/img/rat_art.png)\n",
    "\n",
    "# Foreword\n",
    "\n",
    "This and the follow are jupyter files which contains all the code for\n",
    "reproducing my analysis and detail the process. The code is meant to be\n",
    "followed step-wise. The raw fMRI dataset will not be publicly available\n",
    "before the project preprint publication on BioRxiv. The raw fMRI dataset\n",
    "can be made available prior to publication upon request and review from\n",
    "the authors.\n",
    "\n",
    "If re-using some of the scripts, please follow citations guidelines for\n",
    "the software used. I’ve provided the links to the software wherever\n",
    "possible. See also the [license](../LICENSE.md) for this software.\n",
    "\n",
    "The code is executed in `bash` (RABIES preprocessing) and `python` (analysis\n",
    "and plots).\n",
    "\n",
    "The `python` libraries are detailed in a [yml file](../environment.yml).\n",
    "\n",
    "To reproduce the code contained within this software, please follow\n",
    "these steps  \n",
    "1\\. get the required dependencies \n",
    "2\\. Install python packages (`conda env create -f environment.yml`)\n",
    "3\\. Build RABIES singularity image (`singularity build rabies-0.2.1.simg docker://gabdesgreg/rabies:0.2.1`)\n",
    "4\\. Update the variables `init_folder` and `analysis_folder` at the top of the notebooks. \n"
   ]
  },
  {
   "cell_type": "code",
   "execution_count": 1,
   "metadata": {},
   "outputs": [
    {
     "name": "stdout",
     "output_type": "stream",
     "text": [
      "Python 3.9.2\n",
      "conda 4.3.27\n",
      "jupyter core     : 4.7.1\n",
      "jupyter-notebook : 6.3.0\n",
      "qtconsole        : 5.0.3\n",
      "ipython          : 7.22.0\n",
      "ipykernel        : 5.3.4\n",
      "jupyter client   : 6.1.12\n",
      "jupyter lab      : 3.0.16\n",
      "nbconvert        : 6.0.7\n",
      "ipywidgets       : 7.6.3\n",
      "nbformat         : 5.1.3\n",
      "traitlets        : 5.0.5\n"
     ]
    }
   ],
   "source": [
    "# Python environement\n",
    "! python --version\n",
    "! conda --version\n",
    "! jupyter --version"
   ]
  },
  {
   "cell_type": "code",
   "execution_count": 2,
   "metadata": {},
   "outputs": [
    {
     "name": "stdout",
     "output_type": "stream",
     "text": [
      "FLIRT version 6.0\n"
     ]
    }
   ],
   "source": [
    "# FSL version \n",
    "! flirt -version"
   ]
  },
  {
   "cell_type": "code",
   "execution_count": 1,
   "metadata": {},
   "outputs": [
    {
     "name": "stdout",
     "output_type": "stream",
     "text": [
      "Requirement already satisfied: nipype in /home/traaffneu/joagra/.conda/envs/multirat/lib/python3.9/site-packages (1.6.0)\n",
      "Requirement already satisfied: pandas in /home/traaffneu/joagra/.conda/envs/multirat/lib/python3.9/site-packages (1.2.3)\n",
      "Requirement already satisfied: numpy in /home/traaffneu/joagra/.conda/envs/multirat/lib/python3.9/site-packages (1.19.2)\n",
      "Requirement already satisfied: seaborn in /home/traaffneu/joagra/.conda/envs/multirat/lib/python3.9/site-packages (0.11.1)\n",
      "Requirement already satisfied: matplotlib in /home/traaffneu/joagra/.conda/envs/multirat/lib/python3.9/site-packages (3.4.1)\n",
      "Requirement already satisfied: nibabel in /home/traaffneu/joagra/.conda/envs/multirat/lib/python3.9/site-packages (3.2.1)\n",
      "Collecting bids_validator\n",
      "  Downloading bids_validator-1.8.4-py2.py3-none-any.whl (19 kB)\n",
      "Requirement already satisfied: pyparsing>=2.2.1 in /home/traaffneu/joagra/.conda/envs/multirat/lib/python3.9/site-packages (from matplotlib) (2.4.7)\n",
      "Requirement already satisfied: cycler>=0.10 in /home/traaffneu/joagra/.conda/envs/multirat/lib/python3.9/site-packages (from matplotlib) (0.10.0)\n",
      "Requirement already satisfied: python-dateutil>=2.7 in /home/traaffneu/joagra/.conda/envs/multirat/lib/python3.9/site-packages (from matplotlib) (2.8.1)\n",
      "Requirement already satisfied: kiwisolver>=1.0.1 in /home/traaffneu/joagra/.conda/envs/multirat/lib/python3.9/site-packages (from matplotlib) (1.3.1)\n",
      "Requirement already satisfied: pillow>=6.2.0 in /home/traaffneu/joagra/.conda/envs/multirat/lib/python3.9/site-packages (from matplotlib) (8.2.0)\n",
      "Requirement already satisfied: six in /home/traaffneu/joagra/.conda/envs/multirat/lib/python3.9/site-packages (from cycler>=0.10->matplotlib) (1.15.0)\n",
      "Requirement already satisfied: packaging>=14.3 in /home/traaffneu/joagra/.conda/envs/multirat/lib/python3.9/site-packages (from nibabel) (20.9)\n",
      "Requirement already satisfied: simplejson>=3.8.0 in /home/traaffneu/joagra/.conda/envs/multirat/lib/python3.9/site-packages (from nipype) (3.17.2)\n",
      "Requirement already satisfied: traits!=5.0,>=4.6 in /home/traaffneu/joagra/.conda/envs/multirat/lib/python3.9/site-packages (from nipype) (6.2.0)\n",
      "Requirement already satisfied: prov>=1.5.2 in /home/traaffneu/joagra/.conda/envs/multirat/lib/python3.9/site-packages (from nipype) (2.0.0)\n",
      "Requirement already satisfied: networkx>=2.0 in /home/traaffneu/joagra/.conda/envs/multirat/lib/python3.9/site-packages (from nipype) (2.5.1)\n",
      "Requirement already satisfied: scipy>=0.14 in /home/traaffneu/joagra/.conda/envs/multirat/lib/python3.9/site-packages (from nipype) (1.6.2)\n",
      "Requirement already satisfied: click>=6.6.0 in /home/traaffneu/joagra/.conda/envs/multirat/lib/python3.9/site-packages (from nipype) (7.1.2)\n",
      "Requirement already satisfied: rdflib>=5.0.0 in /home/traaffneu/joagra/.conda/envs/multirat/lib/python3.9/site-packages (from nipype) (5.0.0)\n",
      "Requirement already satisfied: pydot>=1.2.3 in /home/traaffneu/joagra/.conda/envs/multirat/lib/python3.9/site-packages (from nipype) (1.4.2)\n",
      "Requirement already satisfied: etelemetry>=0.2.0 in /home/traaffneu/joagra/.conda/envs/multirat/lib/python3.9/site-packages (from nipype) (0.2.2)\n",
      "Requirement already satisfied: filelock>=3.0.0 in /home/traaffneu/joagra/.conda/envs/multirat/lib/python3.9/site-packages (from nipype) (3.0.12)\n",
      "Requirement already satisfied: ci-info>=0.2 in /home/traaffneu/joagra/.conda/envs/multirat/lib/python3.9/site-packages (from etelemetry>=0.2.0->nipype) (0.2.0)\n",
      "Requirement already satisfied: requests in /home/traaffneu/joagra/.conda/envs/multirat/lib/python3.9/site-packages (from etelemetry>=0.2.0->nipype) (2.25.1)\n",
      "Requirement already satisfied: decorator<5,>=4.3 in /home/traaffneu/joagra/.conda/envs/multirat/lib/python3.9/site-packages (from networkx>=2.0->nipype) (4.4.2)\n",
      "Requirement already satisfied: lxml>=3.3.5 in /home/traaffneu/joagra/.conda/envs/multirat/lib/python3.9/site-packages (from prov>=1.5.2->nipype) (4.6.3)\n",
      "Requirement already satisfied: isodate in /home/traaffneu/joagra/.conda/envs/multirat/lib/python3.9/site-packages (from rdflib>=5.0.0->nipype) (0.6.0)\n",
      "Requirement already satisfied: pytz>=2017.3 in /home/traaffneu/joagra/.conda/envs/multirat/lib/python3.9/site-packages (from pandas) (2021.1)\n",
      "Requirement already satisfied: certifi>=2017.4.17 in /home/traaffneu/joagra/.conda/envs/multirat/lib/python3.9/site-packages (from requests->etelemetry>=0.2.0->nipype) (2020.12.5)\n",
      "Requirement already satisfied: idna<3,>=2.5 in /home/traaffneu/joagra/.conda/envs/multirat/lib/python3.9/site-packages (from requests->etelemetry>=0.2.0->nipype) (2.10)\n",
      "Requirement already satisfied: chardet<5,>=3.0.2 in /home/traaffneu/joagra/.conda/envs/multirat/lib/python3.9/site-packages (from requests->etelemetry>=0.2.0->nipype) (4.0.0)\n",
      "Requirement already satisfied: urllib3<1.27,>=1.21.1 in /home/traaffneu/joagra/.conda/envs/multirat/lib/python3.9/site-packages (from requests->etelemetry>=0.2.0->nipype) (1.26.4)\n",
      "Installing collected packages: bids-validator\n",
      "Successfully installed bids-validator-1.8.4\n"
     ]
    }
   ],
   "source": [
    "# install python packages\n",
    "! pip install nipype pandas numpy seaborn matplotlib nibabel bids_validator"
   ]
  },
  {
   "cell_type": "code",
   "execution_count": 2,
   "metadata": {},
   "outputs": [],
   "source": [
    "! conda env export > ../environment.yml"
   ]
  }
 ],
 "metadata": {
  "kernelspec": {
   "display_name": "Python 3",
   "language": "python",
   "name": "python3"
  },
  "language_info": {
   "codemirror_mode": {
    "name": "ipython",
    "version": 3
   },
   "file_extension": ".py",
   "mimetype": "text/x-python",
   "name": "python",
   "nbconvert_exporter": "python",
   "pygments_lexer": "ipython3",
   "version": "3.9.2"
  }
 },
 "nbformat": 4,
 "nbformat_minor": 4
}
