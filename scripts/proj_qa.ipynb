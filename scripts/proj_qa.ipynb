{
 "cells": [
  {
   "cell_type": "markdown",
   "id": "a98cdb3e",
   "metadata": {},
   "source": [
    "MultiRAT Quality Control\n",
    "================\n",
    "Joanes Grandjean\n",
    "\n",
    "![rat art](../assets/img/rat_art.png)\n",
    "\n",
    "### Quality control\n",
    "\n",
    "RABIES outputs several QA/QC images that are directly relevant to assess\n",
    "image registration (func to anat, anat to template, template to\n",
    "standard), and motion parameters.\n",
    "\n",
    "Below are several examples of QA/QC registration plots that have failed\n",
    "the test. I have re-ran preprocessing for scans with failed QA/QC. To help improve registration, I have manually applied autobox, and if this was not sufficient, changed N4 inhomogeneity correction to `no_reg`. This explains the very low failure rate in this study. \n",
    "Notably, the study preregistration did not make contingency in case\n",
    "some scans must be excluded."
   ]
  },
  {
   "cell_type": "code",
   "execution_count": 1,
   "id": "2b7cd472",
   "metadata": {},
   "outputs": [],
   "source": [
    "# init variables\n",
    "init_folder='/home/traaffneu/joagra/code/MultiRat'\n",
    "analysis_folder='/project/4180000.19/multiRat'\n",
    "df_path='../assets/table/multiRat_rest_20220310.tsv'"
   ]
  },
  {
   "cell_type": "code",
   "execution_count": 2,
   "id": "d7ebf74c",
   "metadata": {},
   "outputs": [],
   "source": [
    "import pandas as pd\n",
    "\n",
    "df = pd.read_csv(df_path, sep='\\t')"
   ]
  },
  {
   "cell_type": "code",
   "execution_count": 3,
   "id": "fe4d0f4f",
   "metadata": {},
   "outputs": [
    {
     "data": {
      "text/plain": [
       "yes    8\n",
       "Name: exclude, dtype: int64"
      ]
     },
     "execution_count": 3,
     "metadata": {},
     "output_type": "execute_result"
    }
   ],
   "source": [
    "#so I excluded 10% of the scans. \n",
    "df['exclude'].value_counts()"
   ]
  },
  {
   "cell_type": "code",
   "execution_count": 4,
   "id": "4df4bbca",
   "metadata": {},
   "outputs": [
    {
     "data": {
      "text/plain": [
       "epi2anat         5\n",
       "anat2template    1\n",
       "motion           1\n",
       "empty            1\n",
       "Name: exclude.reason, dtype: int64"
      ]
     },
     "execution_count": 4,
     "metadata": {},
     "output_type": "execute_result"
    }
   ],
   "source": [
    "#The major cause for exlusion are improper epi2anat corregistration \n",
    "df['exclude.reason'].value_counts()"
   ]
  },
  {
   "cell_type": "code",
   "execution_count": 5,
   "id": "c6219ccb",
   "metadata": {},
   "outputs": [
    {
     "data": {
      "text/html": [
       "<div>\n",
       "<style scoped>\n",
       "    .dataframe tbody tr th:only-of-type {\n",
       "        vertical-align: middle;\n",
       "    }\n",
       "\n",
       "    .dataframe tbody tr th {\n",
       "        vertical-align: top;\n",
       "    }\n",
       "\n",
       "    .dataframe thead tr th {\n",
       "        text-align: left;\n",
       "    }\n",
       "\n",
       "    .dataframe thead tr:last-of-type th {\n",
       "        text-align: right;\n",
       "    }\n",
       "</style>\n",
       "<table border=\"1\" class=\"dataframe\">\n",
       "  <thead>\n",
       "    <tr>\n",
       "      <th></th>\n",
       "      <th colspan=\"4\" halign=\"left\">exclude.reason</th>\n",
       "    </tr>\n",
       "    <tr>\n",
       "      <th></th>\n",
       "      <th>count</th>\n",
       "      <th>unique</th>\n",
       "      <th>top</th>\n",
       "      <th>freq</th>\n",
       "    </tr>\n",
       "    <tr>\n",
       "      <th>rat.ds</th>\n",
       "      <th></th>\n",
       "      <th></th>\n",
       "      <th></th>\n",
       "      <th></th>\n",
       "    </tr>\n",
       "  </thead>\n",
       "  <tbody>\n",
       "    <tr>\n",
       "      <th>1046</th>\n",
       "      <td>2</td>\n",
       "      <td>2</td>\n",
       "      <td>anat2template</td>\n",
       "      <td>1</td>\n",
       "    </tr>\n",
       "    <tr>\n",
       "      <th>1015</th>\n",
       "      <td>1</td>\n",
       "      <td>1</td>\n",
       "      <td>epi2anat</td>\n",
       "      <td>1</td>\n",
       "    </tr>\n",
       "    <tr>\n",
       "      <th>1043</th>\n",
       "      <td>1</td>\n",
       "      <td>1</td>\n",
       "      <td>epi2anat</td>\n",
       "      <td>1</td>\n",
       "    </tr>\n",
       "    <tr>\n",
       "      <th>1052</th>\n",
       "      <td>1</td>\n",
       "      <td>1</td>\n",
       "      <td>motion</td>\n",
       "      <td>1</td>\n",
       "    </tr>\n",
       "    <tr>\n",
       "      <th>1059</th>\n",
       "      <td>1</td>\n",
       "      <td>1</td>\n",
       "      <td>epi2anat</td>\n",
       "      <td>1</td>\n",
       "    </tr>\n",
       "    <tr>\n",
       "      <th>1061</th>\n",
       "      <td>1</td>\n",
       "      <td>1</td>\n",
       "      <td>empty</td>\n",
       "      <td>1</td>\n",
       "    </tr>\n",
       "    <tr>\n",
       "      <th>1063</th>\n",
       "      <td>1</td>\n",
       "      <td>1</td>\n",
       "      <td>epi2anat</td>\n",
       "      <td>1</td>\n",
       "    </tr>\n",
       "  </tbody>\n",
       "</table>\n",
       "</div>"
      ],
      "text/plain": [
       "       exclude.reason                           \n",
       "                count unique            top freq\n",
       "rat.ds                                          \n",
       "1046                2      2  anat2template    1\n",
       "1015                1      1       epi2anat    1\n",
       "1043                1      1       epi2anat    1\n",
       "1052                1      1         motion    1\n",
       "1059                1      1       epi2anat    1\n",
       "1061                1      1          empty    1\n",
       "1063                1      1       epi2anat    1"
      ]
     },
     "execution_count": 5,
     "metadata": {},
     "output_type": "execute_result"
    }
   ],
   "source": [
    "#half the excluded scans from from ~5 - 6 datasets\n",
    "ds_exclude = df[['rat.ds', 'exclude.reason']].groupby(['rat.ds']).describe()\n",
    "ds_exclude.dropna(subset=[('exclude.reason', 'top')]).sort_values(by=[('exclude.reason', 'count')],ascending=False)"
   ]
  },
  {
   "cell_type": "markdown",
   "id": "1827a396",
   "metadata": {},
   "source": [
    "Here is a summary of the excluded datasets, grouped by exclusion reasons\n",
    "and datasets. Currently including only stimulus-evoked datasets.\n",
    "\n",
    "Below are the detailed failed QA/QC tests\n",
    "\n",
    "\n",
    "\n",
    "#### Failed anat2tempalte registration\n",
    "\n",
    "![func2anat](../assets/QC/sub-0104600_ses-1_T2w_inho_cor_registration.png)\n",
    "\n",
    "\n",
    "#### Failed epi2anat registration\n",
    "\n",
    "![func2anat](../assets/QC/sub-0101502_ses-1_run-1_bold_registration.png)\n",
    "\n",
    "![func2anat](../assets/QC/sub-0104304_ses-1_run-1_bold_registration.png)\n",
    "\n",
    "![func2anat](../assets/QC/sub-0104601_ses-1_run-1_bold_registration.png)\n",
    "\n"
   ]
  }
 ],
 "metadata": {
  "interpreter": {
   "hash": "b20344508a6325906fe1ecb0f61c95a20c70707568c2386855afa7475df5426c"
  },
  "kernelspec": {
   "display_name": "Python 3.9.2 64-bit ('multirat': conda)",
   "language": "python",
   "name": "python3"
  },
  "language_info": {
   "codemirror_mode": {
    "name": "ipython",
    "version": 3
   },
   "file_extension": ".py",
   "mimetype": "text/x-python",
   "name": "python",
   "nbconvert_exporter": "python",
   "pygments_lexer": "ipython3",
   "version": "3.9.2"
  }
 },
 "nbformat": 4,
 "nbformat_minor": 5
}
